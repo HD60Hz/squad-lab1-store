{
 "cells": [
  {
   "cell_type": "markdown",
   "metadata": {},
   "source": [
    "# Les fonctions\n",
    "\n",
    "\n",
    "## Qu'est-ce qu'une fonction ?\n",
    "C'est une suite d'instructions que l'on peut rappeler en leur donnant un nom et en rendant paramétrables certaines opérandes de ces instructions\n",
    "\n",
    "Une fonction peut:\n",
    "* Accepter des paramètres (dont le type n'est pas imposé)\n",
    "* Recevoir ses paramètres dans n'importe quel ordre (dans ce cas on indique leur nom : param1=valeur1, param3=valeur3, param2=valeur2)\n",
    "* Avoir des paramètres ayant des valeurs par défaut\n",
    "* Accepter un nombre non limité de paramètres dits positionnels (1,2,\"toto\"), on nomme en général **\\*args** le paramètre qui sera un tuple \n",
    "* Accepter un nombre non limité de paramètres dits mots/clefs ou keyword argument (param1=valeur1, param2=valeur2), on nomme en général **\\*\\*kwargs** ce paramètre qui sera un dictionnaire\n",
    "* Retourner une valeur\n"
   ]
  },
  {
   "cell_type": "markdown",
   "metadata": {},
   "source": [
    "## Créer une fonction\n",
    "On utilise le mot clef **def** suivi du nom de la fonction, de parenthèses pour les éventuels paramètres et de la marque de début de bloc **:**  \n",
    "Tout ce qui est indenté après cette ligne de définition fait partie du code de la fonction\n",
    "Pour appeler la fonction on écrit son nom suivi de ()"
   ]
  },
  {
   "cell_type": "code",
   "execution_count": 7,
   "metadata": {},
   "outputs": [
    {
     "name": "stdout",
     "output_type": "stream",
     "text": [
      "Bonjour\n",
      "DEBUT F1\n",
      "FIN F1\n",
      "Au revoir\n"
     ]
    }
   ],
   "source": [
    "def f1():  # Définition de la fonction, pas d'exécution\n",
    "    print('DEBUT F1')\n",
    "    print('FIN F1')\n",
    "    \n",
    "print(\"Bonjour\")\n",
    "f1() \n",
    "print(\"Au revoir\")"
   ]
  },
  {
   "cell_type": "markdown",
   "metadata": {},
   "source": [
    "## Une fonction peut accepter des paramètres"
   ]
  },
  {
   "cell_type": "code",
   "execution_count": 8,
   "metadata": {},
   "outputs": [],
   "source": [
    "def f2(a, b):\n",
    "    print(\"F2: a=%s, b=%s\" % (a,b))"
   ]
  },
  {
   "cell_type": "code",
   "execution_count": null,
   "metadata": {},
   "outputs": [],
   "source": [
    "f2(10, 20)"
   ]
  },
  {
   "cell_type": "code",
   "execution_count": null,
   "metadata": {},
   "outputs": [],
   "source": [
    "f2(\"toto\", [1,2,3])"
   ]
  },
  {
   "cell_type": "code",
   "execution_count": 9,
   "metadata": {},
   "outputs": [
    {
     "ename": "TypeError",
     "evalue": "f2() missing 2 required positional arguments: 'a' and 'b'",
     "output_type": "error",
     "traceback": [
      "\u001b[0;31m-------------------------------------------------------------------\u001b[0m",
      "\u001b[0;31mTypeError\u001b[0m                         Traceback (most recent call last)",
      "\u001b[0;32m<ipython-input-9-763d62c3374b>\u001b[0m in \u001b[0;36m<module>\u001b[0;34m\u001b[0m\n\u001b[1;32m      1\u001b[0m \u001b[0;31m# Les paramètres sont obligatoires, sauf s'ils ont des valeurs par défaut\u001b[0m\u001b[0;34m\u001b[0m\u001b[0;34m\u001b[0m\u001b[0;34m\u001b[0m\u001b[0m\n\u001b[0;32m----> 2\u001b[0;31m \u001b[0mf2\u001b[0m\u001b[0;34m(\u001b[0m\u001b[0;34m)\u001b[0m\u001b[0;34m\u001b[0m\u001b[0;34m\u001b[0m\u001b[0m\n\u001b[0m",
      "\u001b[0;31mTypeError\u001b[0m: f2() missing 2 required positional arguments: 'a' and 'b'"
     ]
    }
   ],
   "source": [
    "# Les paramètres sont obligatoires, sauf s'ils ont des valeurs par défaut\n",
    "f2()"
   ]
  },
  {
   "cell_type": "markdown",
   "metadata": {},
   "source": [
    "## On peut passer les paramètres sans respecter l'ordre s'ils sont nommés"
   ]
  },
  {
   "cell_type": "code",
   "execution_count": 2,
   "metadata": {},
   "outputs": [],
   "source": [
    "def f2(a, b):\n",
    "    print(\"F2: a=%s, b=%s\" % (a,b))"
   ]
  },
  {
   "cell_type": "code",
   "execution_count": null,
   "metadata": {},
   "outputs": [],
   "source": [
    "f2(10, 20)"
   ]
  },
  {
   "cell_type": "code",
   "execution_count": null,
   "metadata": {},
   "outputs": [],
   "source": [
    "f2(a=10, b=20) # paramètres nommés ou keyword argument"
   ]
  },
  {
   "cell_type": "code",
   "execution_count": null,
   "metadata": {},
   "outputs": [],
   "source": [
    "f2(b=5, a=3)"
   ]
  },
  {
   "cell_type": "code",
   "execution_count": null,
   "metadata": {},
   "outputs": [],
   "source": [
    "f2(5, b=6)"
   ]
  },
  {
   "cell_type": "code",
   "execution_count": 3,
   "metadata": {},
   "outputs": [
    {
     "ename": "TypeError",
     "evalue": "f2() got multiple values for argument 'a'",
     "output_type": "error",
     "traceback": [
      "\u001b[0;31m-------------------------------------------------------------------\u001b[0m",
      "\u001b[0;31mTypeError\u001b[0m                         Traceback (most recent call last)",
      "\u001b[0;32m<ipython-input-3-d6903109731e>\u001b[0m in \u001b[0;36m<module>\u001b[0;34m\u001b[0m\n\u001b[0;32m----> 1\u001b[0;31m \u001b[0mf2\u001b[0m\u001b[0;34m(\u001b[0m\u001b[0;36m5\u001b[0m\u001b[0;34m,\u001b[0m \u001b[0ma\u001b[0m\u001b[0;34m=\u001b[0m\u001b[0;36m6\u001b[0m\u001b[0;34m)\u001b[0m\u001b[0;34m\u001b[0m\u001b[0;34m\u001b[0m\u001b[0m\n\u001b[0m",
      "\u001b[0;31mTypeError\u001b[0m: f2() got multiple values for argument 'a'"
     ]
    }
   ],
   "source": [
    "f2(5, a=6)  "
   ]
  },
  {
   "cell_type": "code",
   "execution_count": 4,
   "metadata": {},
   "outputs": [
    {
     "ename": "SyntaxError",
     "evalue": "positional argument follows keyword argument (<ipython-input-4-6595bc84525b>, line 1)",
     "output_type": "error",
     "traceback": [
      "\u001b[0;36m  File \u001b[0;32m\"<ipython-input-4-6595bc84525b>\"\u001b[0;36m, line \u001b[0;32m1\u001b[0m\n\u001b[0;31m    f2(a=5, 6)\u001b[0m\n\u001b[0m           ^\u001b[0m\n\u001b[0;31mSyntaxError\u001b[0m\u001b[0;31m:\u001b[0m positional argument follows keyword argument\n"
     ]
    }
   ],
   "source": [
    "f2(a=5, 6) "
   ]
  },
  {
   "cell_type": "markdown",
   "metadata": {},
   "source": [
    "### Question ?\n",
    "Peut-on récupérer la valeur d'une fonction qui ne retourne rien ?"
   ]
  },
  {
   "cell_type": "code",
   "execution_count": 1,
   "metadata": {},
   "outputs": [
    {
     "name": "stdout",
     "output_type": "stream",
     "text": [
      "F2: a=10, b=20\n",
      "None\n"
     ]
    }
   ],
   "source": [
    "def f2(a, b):\n",
    "    print(\"F2: a=%s, b=%s\" % (a,b))\n",
    "\n",
    "r = f2(10,20)  \n",
    "print(r)"
   ]
  },
  {
   "cell_type": "markdown",
   "metadata": {},
   "source": [
    "## Exercice\n",
    "Simuler le retour de plusieurs valeurs:  \n",
    "Ecrire une fonction somme_produit qui retourne la somme et le produit \n",
    "des paramètres a et b  \n",
    "Récupérer ces valeurs dans 2 variables, **s** et **p**"
   ]
  },
  {
   "cell_type": "code",
   "execution_count": null,
   "metadata": {},
   "outputs": [],
   "source": [
    "def somme_produit(a, b):\n",
    "    \"\"\"\n",
    "    La fonction somme_produit retourne la somme et le produit\n",
    "    de 2 nombres\n",
    "    \"\"\"\n",
    "\n",
    "\n",
    "print(\"Somme=\", s, \" Produit=\", p)"
   ]
  },
  {
   "cell_type": "markdown",
   "metadata": {},
   "source": [
    "## Les paramètres d'une fonction peuvent avoir des valeurs par défaut"
   ]
  },
  {
   "cell_type": "code",
   "execution_count": null,
   "metadata": {},
   "outputs": [],
   "source": [
    "def f4(a=5, b=\"toto\"):\n",
    "    print(\"F4: a=%s, b=%s\" % (a,b))"
   ]
  },
  {
   "cell_type": "code",
   "execution_count": null,
   "metadata": {},
   "outputs": [],
   "source": [
    "f4()\n",
    "f4(10)\n",
    "f4(a=6)\n",
    "f4(b=7)"
   ]
  },
  {
   "cell_type": "markdown",
   "metadata": {},
   "source": [
    "## Une fonction peut accepter un nombre non limité de paramètres\n",
    "* Dans ce cas, les paramètres positionnels sont récupérés dans un paramètre préfixé d'une étoile `*`\n",
    "  Son type sera un *tuple*, par convention on le nomme **args**, mais vous le nommez comme vous voulez\n",
    "* Dans ce cas, les paramètres nommés (keyword argument) sont récupérés dans un paramètre préfixé de 2 étoiles `**`\n",
    "  Son type sera un *dictionnaire*, par convention on le nomme **kwargs**, mais vous le nommez comme vous voulez\n",
    "  Ses clefs seront les noms des paramètres et leurs valeurs, les valeurs associées\n",
    "\n",
    "\n",
    "**Les fameuses conventions sont ICI:**\n",
    "* PEP8 : https://www.python.org/dev/peps/pep-0008/\n",
    "* PEP257 : https://www.python.org/dev/peps/pep-0257/"
   ]
  },
  {
   "cell_type": "code",
   "execution_count": null,
   "metadata": {
    "collapsed": true
   },
   "outputs": [],
   "source": [
    "def f5(a=5, b=\"toto\", *args, **kwargs):\n",
    "    print(\"F5: a=%s, b=%s, args=%s, kwargs=%s\" % (a, b, args, kwargs))"
   ]
  },
  {
   "cell_type": "code",
   "execution_count": null,
   "metadata": {},
   "outputs": [],
   "source": [
    "f5()\n",
    "f5(10,20)\n",
    "f5(10,20,30,40)\n",
    "f5(10,20,toto=1, titi=\"boum\")\n",
    "f5(10,20,30,40,toto=1, titi=\"boum\")"
   ]
  },
  {
   "cell_type": "markdown",
   "metadata": {},
   "source": [
    "## Unpacking d'arguments\n",
    "Tout comme on peut affecter les éléments d'une liste à plusieurs variables, on peut passer les éléments d'une liste ou d'un dictionnaire comme plusieurs paramètres différents"
   ]
  },
  {
   "cell_type": "code",
   "execution_count": 24,
   "metadata": {},
   "outputs": [],
   "source": [
    "def f6(a,b,c):\n",
    "    print(\"F6: a=%s, b=%s, c=%s\" %(a,b,c))"
   ]
  },
  {
   "cell_type": "code",
   "execution_count": 25,
   "metadata": {},
   "outputs": [
    {
     "name": "stdout",
     "output_type": "stream",
     "text": [
      "F6: a=1, b=2, c=3\n"
     ]
    }
   ],
   "source": [
    "l1 = (1,2,3)\n",
    "f6(*l1)"
   ]
  },
  {
   "cell_type": "code",
   "execution_count": 26,
   "metadata": {},
   "outputs": [
    {
     "name": "stdout",
     "output_type": "stream",
     "text": [
      "F6: a=1, b=2, c=3\n"
     ]
    }
   ],
   "source": [
    "d1 = {\"a\": 1, \"b\": 2, \"c\": 3}\n",
    "f6(**d1)"
   ]
  },
  {
   "cell_type": "markdown",
   "metadata": {},
   "source": [
    "# Visibilité des variables\n",
    "En Python, comme dans tout langage les variables ont une visibilité qui est locale au bloc les déclarant et à leurs sous blocs\n",
    "\n",
    "* Déclarer une variable c'est lui affecter une valeur\n",
    "\n",
    "* Les blocs « if, elif, else », « for », « while » et « try/except » sont considérés comme étant dans le bloc « courant », ils ne sont pas considérés comme des sous blocs\n",
    "* On parle de variable globale quand une variable est déclarée au niveau du script Python\n",
    "* On parle de visibilité locale lorsque qu'une variable est déclarée au niveau d'un module, d'une classe, d'une fonction. Dans ce cas sa visibilité est locale à l'objet qui la déclare\n"
   ]
  },
  {
   "cell_type": "code",
   "execution_count": 2,
   "metadata": {},
   "outputs": [
    {
     "name": "stdout",
     "output_type": "stream",
     "text": [
      "Avant fonction\n",
      "VAR1=10, VAR2=20\n",
      "F1: VAR1=90, VAR2=100\n",
      "Après fonction\n",
      "VAR1=10, VAR2=20\n"
     ]
    }
   ],
   "source": [
    "# qu'affiche ce programme ?\n",
    "\n",
    "VAR1 = 10\n",
    "VAR2 = 20\n",
    "\n",
    "print(\"Avant fonction\")\n",
    "print(\"VAR1=%s, VAR2=%s\" % (VAR1, VAR2))\n",
    "\n",
    "def f1():\n",
    "    VAR1 = 90\n",
    "    VAR2 = 100\n",
    "    print(\"F1: VAR1=%s, VAR2=%s\" % (VAR1, VAR2))\n",
    "\n",
    "f1()\n",
    "print(\"Après fonction\")\n",
    "print(\"VAR1=%s, VAR2=%s\" % (VAR1, VAR2))"
   ]
  },
  {
   "cell_type": "code",
   "execution_count": null,
   "metadata": {},
   "outputs": [],
   "source": [
    "# Et celui-ci ?\n",
    "\n",
    "a = 10 \n",
    "if 5 < 6:\n",
    "    a = 25 # on ne crée pas une nouvelle variable locale a\n",
    "           # contrairement au bloc de code des fonctions\n",
    "    b = 7\n",
    "else:\n",
    "    a = 36\n",
    "    b = 8\n",
    "print(a, b)"
   ]
  }
 ],
 "metadata": {
  "anaconda-cloud": {},
  "kernelspec": {
   "display_name": "Python 3",
   "language": "python",
   "name": "python3"
  },
  "language_info": {
   "codemirror_mode": {
    "name": "ipython",
    "version": 3
   },
   "file_extension": ".py",
   "mimetype": "text/x-python",
   "name": "python",
   "nbconvert_exporter": "python",
   "pygments_lexer": "ipython3",
   "version": "3.7.4"
  }
 },
 "nbformat": 4,
 "nbformat_minor": 1
}
