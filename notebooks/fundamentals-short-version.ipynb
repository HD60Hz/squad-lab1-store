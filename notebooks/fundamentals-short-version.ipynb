{
 "cells": [
  {
   "cell_type": "markdown",
   "metadata": {},
   "source": [
    "# Types de données\n",
    "\n",
    "En Python il existe 7 types de données principaux:\n",
    "\n",
    "* La constante **None**, NULL en C/C++ ou null en Java\n",
    "* Les booléens **True** et **False**\n",
    "* Les nombres (entiers, réels, complexes, ...)\n",
    "* Les chaînes de caractères\n",
    "* Les tableaux indicés (listes et les tuples)\n",
    "* Les tableaux associatifs de type clef/valeur (map/hashtable de Java, C++, Perl)\n",
    "* Les tableaux d'octets"
   ]
  },
  {
   "cell_type": "code",
   "execution_count": 1,
   "metadata": {},
   "outputs": [
    {
     "name": "stdout",
     "output_type": "stream",
     "text": [
      "None <class 'NoneType'>\n"
     ]
    }
   ],
   "source": [
    "var = None\n",
    "print(var, type(var))"
   ]
  },
  {
   "cell_type": "markdown",
   "metadata": {},
   "source": [
    "En python, une variable peut changer de type"
   ]
  },
  {
   "cell_type": "code",
   "execution_count": null,
   "metadata": {},
   "outputs": [],
   "source": [
    "var = True\n",
    "print(var, type(var))"
   ]
  },
  {
   "cell_type": "code",
   "execution_count": 2,
   "metadata": {},
   "outputs": [
    {
     "name": "stdout",
     "output_type": "stream",
     "text": [
      "10 <class 'int'>\n"
     ]
    }
   ],
   "source": [
    "var = 10\n",
    "print(var, type(var))"
   ]
  },
  {
   "cell_type": "code",
   "execution_count": null,
   "metadata": {},
   "outputs": [],
   "source": [
    "var = 3.14\n",
    "print(var, type(var))"
   ]
  },
  {
   "cell_type": "code",
   "execution_count": 3,
   "metadata": {},
   "outputs": [
    {
     "name": "stdout",
     "output_type": "stream",
     "text": [
      "1j <class 'complex'> (-1+0j)\n"
     ]
    }
   ],
   "source": [
    "var = 0 + 1j  # 1j est le nombre imaginaire i, tel que  i*i = -1\n",
    "print(var, type(var), var * var)"
   ]
  },
  {
   "cell_type": "code",
   "execution_count": 4,
   "metadata": {},
   "outputs": [
    {
     "name": "stdout",
     "output_type": "stream",
     "text": [
      "Le corbeau et le renard <class 'str'>\n"
     ]
    }
   ],
   "source": [
    "var = \"Le corbeau et le renard\"\n",
    "print(var, type(var))"
   ]
  },
  {
   "cell_type": "code",
   "execution_count": null,
   "metadata": {},
   "outputs": [],
   "source": [
    "var = [None, True, 10, 3.14, 0+1j, [\"toto\", \"titi\"], \"tata\"]\n",
    "print(var, type(var))"
   ]
  },
  {
   "cell_type": "code",
   "execution_count": null,
   "metadata": {},
   "outputs": [],
   "source": [
    "print(\"NB éléments du tableau:\", len(var))"
   ]
  },
  {
   "cell_type": "code",
   "execution_count": null,
   "metadata": {},
   "outputs": [],
   "source": [
    "print(var[0])\n",
    "print(var[1])\n",
    "print(var[5][1])"
   ]
  },
  {
   "cell_type": "code",
   "execution_count": null,
   "metadata": {},
   "outputs": [],
   "source": [
    "# modification de la valeur d'un élément du tableau\n",
    "var[0] = 1000\n",
    "print(var)"
   ]
  },
  {
   "cell_type": "code",
   "execution_count": null,
   "metadata": {},
   "outputs": [],
   "source": [
    "var = (None, 10, 3.14, 0+1j, \"riri\", (\"fifi\", \"loulou\"))\n",
    "print(var, type(var))"
   ]
  },
  {
   "cell_type": "code",
   "execution_count": null,
   "metadata": {},
   "outputs": [],
   "source": [
    "print(var[0])\n",
    "print(var[1])\n",
    "print(var[5][1])"
   ]
  },
  {
   "cell_type": "code",
   "execution_count": null,
   "metadata": {},
   "outputs": [],
   "source": [
    "var[0] = 1000  # ?\n"
   ]
  },
  {
   "cell_type": "code",
   "execution_count": null,
   "metadata": {},
   "outputs": [],
   "source": [
    "var = { \"CLEF\": \"VALEUR\", \"NOM\": \"DURAND\", \"AGE\": 20 }\n",
    "print(var, type(var))"
   ]
  },
  {
   "cell_type": "code",
   "execution_count": null,
   "metadata": {},
   "outputs": [],
   "source": [
    "print(var[\"NOM\"])"
   ]
  },
  {
   "cell_type": "code",
   "execution_count": null,
   "metadata": {},
   "outputs": [],
   "source": [
    "var[\"NOM\"] = \"DURANT\"\n",
    "print(var)"
   ]
  },
  {
   "cell_type": "markdown",
   "metadata": {},
   "source": [
    "## Le nom d'un type peut servir de fonction de conversion"
   ]
  },
  {
   "cell_type": "code",
   "execution_count": 8,
   "metadata": {},
   "outputs": [
    {
     "name": "stdout",
     "output_type": "stream",
     "text": [
      "<class 'float'>\n",
      "3\n",
      "3.143.143.14\n",
      "['A', 'B', 'C']\n",
      "['A', 'B', 'C']\n",
      "True True False True\n",
      "3.0\n",
      "36\n",
      "26\n",
      "10\n"
     ]
    }
   ],
   "source": [
    "pi = 3.14\n",
    "print(type(pi))\n",
    "print( int(pi) )\n",
    "print( str(pi) * 3 )\n",
    "print(list(\"ABC\"))\n",
    "print(str(['A', 'B', 'C']))\n",
    "print(bool(1), bool(0))\n",
    "print( float(3) )\n",
    "print( int(\"12\") * 3 )\n",
    "print( int('1A', base=16))\n",
    "print( int(\"1010\", base=2))"
   ]
  },
  {
   "cell_type": "markdown",
   "metadata": {},
   "source": [
    "# Les chaînes de caractères"
   ]
  },
  {
   "cell_type": "markdown",
   "metadata": {},
   "source": [
    "On peut délimiter une chaîne de 4 façons différentes"
   ]
  },
  {
   "cell_type": "code",
   "execution_count": null,
   "metadata": {},
   "outputs": [],
   "source": [
    "s1 = \"Le corbeau dit au renard:\\n\\\"Oh bonjour l'ami Renard\\\" \"\n",
    "s2 = 'Le corbeau dit au renard:\\n\"Oh bonjour l\\'ami Renard\" '\n",
    "# Les chaînes entourées de triples guillemets/apostrophes\n",
    "# sont appelées docstring, car elles permettent de documenter le code\n",
    "s3 = \"\"\"Le corbeau dit au renard:\n",
    "\"Oh bonjour l'ami Du Renard\" \"\"\"\n",
    "s4 = '''Le corbeau dit au renard:\n",
    "\"Oh bonjour l'ami Du Renard\" '''\n",
    "print(s1, type(s1))\n",
    "print(s2, type(s2))\n",
    "print(s3, type(s3))\n",
    "print(s4, type(s4))\n",
    "# # L'opérateur de comparaison est ==\n",
    "print(s1 == s2, s2 == s3, s3 == s4, s4 == s1)"
   ]
  },
  {
   "cell_type": "code",
   "execution_count": 9,
   "metadata": {},
   "outputs": [
    {
     "name": "stdout",
     "output_type": "stream",
     "text": [
      "a= 10 b= 20\n",
      "a=10 b=20\n",
      "a=*10* b=*20\n",
      "a=10 b=20\n",
      "a=10, b=20\n",
      "a=00000010 **** b=00020.00\n",
      "a=10 **** b=20\n",
      "a=00000010 **** b=00020.00\n",
      "a=00000010, b=00020.00\n",
      "a=00000010, b=20, a+2b=50\n"
     ]
    }
   ],
   "source": [
    "# Formatage de chaîne\n",
    "a = 10\n",
    "b = 20\n",
    "print(\"a=\", a, \"b=\", b)\n",
    "print(\"a=\", a, \" b=\", b, sep=\"\")  # pas de caractère de séparation \n",
    "#                                   # après ,\n",
    "print(\"a=\", a, \" b=\", b, sep=\"*\")\n",
    "\n",
    "# # On peut concaténer comme en java\n",
    "print(\"a=\" + str(a) + \" b=\" + str(b))  # str(x) convertit la variable x\n",
    "#                                        # en chaîne\n",
    "# # syntaxe similaire au printf du C\n",
    "print(\"a=%s, b=%s\" % (a, b))\n",
    "print(\"a=%08d **** b=%08.2f\" % (a, b))\n",
    "\n",
    "# # la fonction format\n",
    "print(\"a={0} **** b={1}\".format(a, b) ) # {0} : param d'incide 0\n",
    "print(\"a={0:08d} **** b={1:08.2f}\".format(a, b) )\n",
    "print(\"a={param1:08d}, b={autre:08.2f}\".format(autre=b, param1=a))\n",
    "\n",
    "# # Depuis Python 3.6\n",
    "toto = a\n",
    "print( f\"a={toto:08d}, b={b}, a+2b={toto+b*2}\" )"
   ]
  },
  {
   "cell_type": "markdown",
   "metadata": {},
   "source": [
    "# Fonctions utiles sur les chaînes"
   ]
  },
  {
   "cell_type": "code",
   "execution_count": null,
   "metadata": {},
   "outputs": [],
   "source": [
    "s = 'Le corbeau et le renard'\n",
    "print(\"Longueur:\", len(s))\n",
    "# Couper une chaîne en morceaux\n",
    "print(s.split(\" \"))\n",
    "# # Une chaîne en contient-elle une autre\n",
    "print(\"corbeau\" in s)\n",
    "print(s.index(\"corbeau\"))\n",
    "print(s.find(\"corbeau\"))  # -1 si pas trouvé, sinon position du 1er carac\n",
    "# # Concaténer une liste de chaînes\n",
    "mots = ['Le', 'corbeau', 'et', 'le', 'renard']\n",
    "print(\"*-*\".join(mots))\n",
    "# # Connaître le code ASCII/Unicode des caractères\n",
    "print(ord(\"A\")) # code ASCII de A\n",
    "# # Afficher un caractère à partir de son code ASCII/Unicode\n",
    "print(chr(65))\n"
   ]
  },
  {
   "cell_type": "markdown",
   "metadata": {},
   "source": [
    "# Indexation/Slicing\n",
    "\n",
    "En Python on peut accéder à un élément d'une liste/tuple/chaîne/collection via la syntaxe:\n",
    "\n",
    "* `<variable>[<indice qui commence à 0>]`\n",
    "\n",
    "On peut aussi accéder à des portions de chaînes avec la syntaxe\n",
    "\n",
    "* `<variable>[<indice début qui commence à 0>:<indice fin exclu>:<incrément>]`\n",
    "    * Si pas d'indice de début => 0\n",
    "    * Si pas d'indice de fin => jusqu'à la fin\n",
    "    * Si pas d'incrément => 1\n",
    "    * On peut avoir des indices négatifs : -1 est le dernier\n",
    "\n"
   ]
  },
  {
   "cell_type": "markdown",
   "metadata": {},
   "source": [
    "Qu'affichent ces exemples?"
   ]
  },
  {
   "cell_type": "code",
   "execution_count": null,
   "metadata": {},
   "outputs": [],
   "source": [
    "s=\"Le lion et le moustique\"\n",
    "print(s[0])\n",
    "print(s[-1])\n",
    "print(s[0:7:1])\n",
    "print(s[0:7:2])\n",
    "print(s[7::])\n",
    "print(s[::2])\n",
    "print(s[-9:])\n",
    "print(s[-9:-5])\n",
    "print(s[15:10:-1])\n",
    "print(\"*\" + s[10:15:-1] + \"*\")\n",
    "print(\"*\" + s[-10:-15:1] + \"*\")\n",
    "print(\"*\" + s[-10:-15:-1] + \"*\")\n",
    "print(s[::-1])  # par convention: la chaîne à l'envers"
   ]
  },
  {
   "cell_type": "markdown",
   "metadata": {},
   "source": [
    "# Parcours des caractères d'une chaîne\n",
    "\n",
    "```python\n",
    "for <variable> in <chaîne>:\n",
    "    <instructions indentées>\n",
    "```"
   ]
  },
  {
   "cell_type": "code",
   "execution_count": null,
   "metadata": {},
   "outputs": [],
   "source": [
    "s = \"La grenouille et le boeuf\"\n",
    "\n",
    "for ma_variable in s:\n",
    "    print(\"Caractère courant:\", ma_variable)"
   ]
  },
  {
   "cell_type": "markdown",
   "metadata": {},
   "source": [
    "## La boucle while\n",
    "\n",
    "```python\n",
    "while <condition vraie>:\n",
    "    <suite d'instructions indentées>\n",
    "```"
   ]
  },
  {
   "cell_type": "code",
   "execution_count": null,
   "metadata": {},
   "outputs": [],
   "source": [
    "s = \"ABC\"\n",
    "ind = 0\n",
    "while ind < len(s):\n",
    "    print(\"Indice courant:\", ind, \"Car courant:\", s[ind])\n",
    "    ind = ind + 1"
   ]
  },
  {
   "cell_type": "markdown",
   "metadata": {},
   "source": [
    "La fonction **enumerate** : elle retourne une liste de couples (indice, élément)"
   ]
  },
  {
   "cell_type": "code",
   "execution_count": null,
   "metadata": {},
   "outputs": [],
   "source": [
    "s = \"ABC\"\n",
    "e = enumerate(s)\n",
    "print(e)\n",
    "print(list(e))"
   ]
  },
  {
   "cell_type": "code",
   "execution_count": null,
   "metadata": {},
   "outputs": [],
   "source": [
    "for couple in enumerate(s):\n",
    "    print(\"couple courant\", couple)"
   ]
  },
  {
   "cell_type": "code",
   "execution_count": null,
   "metadata": {},
   "outputs": [],
   "source": [
    "for ind, car in enumerate(s):\n",
    "    print(\"couple courant\", ind, car)"
   ]
  },
  {
   "cell_type": "markdown",
   "metadata": {},
   "source": [
    "## Opérateurs"
   ]
  },
  {
   "cell_type": "code",
   "execution_count": null,
   "metadata": {},
   "outputs": [],
   "source": [
    "# concaténation\n",
    "s = \"riri\" + \"fifi\" + \"loulou\"\n",
    "print(s)\n",
    "# répétition\n",
    "s = \"1000\" * 3 \n",
    "print(s)"
   ]
  },
  {
   "cell_type": "markdown",
   "metadata": {},
   "source": [
    "# Les tableaux indicés\n",
    "\n",
    "* Listes qui s'écrivent avec des crochets\n",
    "* Tuples qui s'écrivent avec des parenthèses\n",
    "\n",
    "Un tuple est un tableau non modifiable"
   ]
  },
  {
   "cell_type": "code",
   "execution_count": null,
   "metadata": {},
   "outputs": [],
   "source": [
    "l1 = []\n",
    "l2 = [None, 10, 3.14, \"toto\", [1,2,3], (4,5,6), {\"NOM\": \"Dupond\"}]\n",
    "t1 = ()\n",
    "t2 = (None, 10, 3.14, \"toto\", [1,2,3], (4,5,6), {\"NOM\": \"Dupond\"})\n",
    "print(type(l1), type(t1))\n"
   ]
  },
  {
   "cell_type": "code",
   "execution_count": null,
   "metadata": {},
   "outputs": [],
   "source": [
    "tuple(l2)"
   ]
  },
  {
   "cell_type": "code",
   "execution_count": null,
   "metadata": {},
   "outputs": [],
   "source": [
    "list(t2)"
   ]
  },
  {
   "cell_type": "markdown",
   "metadata": {},
   "source": [
    "Notation par indices fonctionne comme avec les chaînes"
   ]
  },
  {
   "cell_type": "code",
   "execution_count": null,
   "metadata": {},
   "outputs": [],
   "source": [
    "print( t2[2] )\n",
    "print( t2[4:] )\n",
    "print( l2[-1] )\n",
    "print( l2[-1]['NOM'] )\n",
    "print( l2[-2][2] )\n",
    "print( l2[-2:2] )\n",
    "print( l2[2:-2])\n",
    "print( l2[-2:2:-1])"
   ]
  },
  {
   "cell_type": "code",
   "execution_count": null,
   "metadata": {},
   "outputs": [],
   "source": [
    "l2[0] = 1\n",
    "print(l2)\n",
    "# t2[0] = 1 # TypeError: 'tuple' object does not support item assignment\n"
   ]
  },
  {
   "cell_type": "markdown",
   "metadata": {},
   "source": [
    "## Quelques fonctions utiles sur les listes"
   ]
  },
  {
   "cell_type": "code",
   "execution_count": null,
   "metadata": {},
   "outputs": [],
   "source": [
    "l = [1,2,3]\n",
    "\n",
    "print(\"Longueur:\", len(l))\n",
    "# Ajout en fin\n",
    "l.append(4)\n",
    "print(l)\n",
    "# # Insertion à un indice donné\n",
    "l.insert(2, 2.5)\n",
    "print(l)\n",
    "# # Suppression à un indice donné\n",
    "del l[2]\n",
    "print(l)\n",
    "# # Supprimer le dernier en récupérant la valeur\n",
    "v = l.pop()\n",
    "print(v, l)\n",
    "# # Suppression à une position donnée\n",
    "v = l.pop(0)\n",
    "print(v, l)"
   ]
  },
  {
   "cell_type": "code",
   "execution_count": 10,
   "metadata": {},
   "outputs": [
    {
     "name": "stdout",
     "output_type": "stream",
     "text": [
      "[1, 5, 8, 9, 10]\n",
      "True False\n",
      "2\n",
      "[1, 22, 4, 3, 4]\n"
     ]
    }
   ],
   "source": [
    "l = [1,10,5,9,8]\n",
    "# # tri de la liste\n",
    "l.sort()  # modifie la liste\n",
    "print(l)\n",
    "# # Tester si une valeur est dans la liste\n",
    "print( 8 in l, \"toto\" in l )\n",
    "print( l.index(8) )\n",
    "# # Supprimer une valeur de la liste\n",
    "l = [1,22,3,4,3,4]\n",
    "l.remove(3)\n",
    "print(l)"
   ]
  },
  {
   "cell_type": "markdown",
   "metadata": {},
   "source": [
    "## Types modifiables et non modifiables\n",
    "\n",
    "En Python, il y a 2 notions importantes qui sont sources de bugs quand on débute\n",
    "\n",
    "Les types sont classés en 2 genres:\n",
    "\n",
    "* Les types modifiables/mutable  \n",
    "  Listes, dictionnaires et sets\n",
    "* Les types non modifiables/unmutable  \n",
    "  chaines, None, booléens, nombres, octets, tuples\n",
    "  \n",
    "  \n",
    "Un type non modifiable est stocké dans une mémoire read-only, une fois créé on ne peut le modifier là ou il est stocké.  Si sa variable change de valeur, elle change d'adresse mémoire\n",
    "\n",
    "En python, quelque soit les types manipulés, les affectations se font toujours par copie de pointeur/référence/adresse mémoire, jamais par duplication de valeur"
   ]
  },
  {
   "cell_type": "code",
   "execution_count": 14,
   "metadata": {},
   "outputs": [
    {
     "name": "stdout",
     "output_type": "stream",
     "text": [
      "Adresse mémoire de a: 140252778689792\n",
      "Adresse mémoire de b: 140252778689792\n",
      "11\n",
      "10\n",
      "Adresse mémoire de a: 140252778689824\n"
     ]
    }
   ],
   "source": [
    "a = 10\n",
    "print(\"Adresse mémoire de a:\", id(a))\n",
    "b = a\n",
    "print(\"Adresse mémoire de b:\", id(b))\n",
    "a = a + 1\n",
    "print(a)\n",
    "print(b)\n",
    "print(\"Adresse mémoire de a:\", id(a))"
   ]
  },
  {
   "cell_type": "code",
   "execution_count": null,
   "metadata": {},
   "outputs": [],
   "source": [
    "s1 = 'BONJOUR'\n",
    "s2 = s1\n",
    "print(\"Adresse mémoire de s1:\", id(s1))\n",
    "print(\"Adresse mémoire de s2:\", id(s2))\n",
    "print( id(s1) == id(s2), s1 is s2 )\n",
    "s1 = s1 + \" AU REVOIR\"\n",
    "print(s1)\n",
    "print(s2)\n",
    "print(\"Adresse mémoire de s1:\", id(s1))"
   ]
  },
  {
   "cell_type": "markdown",
   "metadata": {},
   "source": [
    "**ATTENTION** aux effets de bords avec les types modifiables\n",
    "\n",
    "\n",
    "Visualiser ce code sur le site http://www.pythontutor.com"
   ]
  },
  {
   "cell_type": "code",
   "execution_count": 15,
   "metadata": {},
   "outputs": [
    {
     "name": "stdout",
     "output_type": "stream",
     "text": [
      "L2= [1, 2, 3, 4]\n",
      "L1= [1, 2, 3, 4]\n",
      "Adresse de l1: 140252643973952\n",
      "Adresse de l2: 140252643973952\n"
     ]
    }
   ],
   "source": [
    "l1 = [1, 2, 3]\n",
    "l2 = l1\n",
    "l2.append(4)\n",
    "print(\"L2=\", l2)\n",
    "print(\"L1=\", l1)\n",
    "print(\"Adresse de l1:\", id(l1))\n",
    "print(\"Adresse de l2:\", id(l2))"
   ]
  },
  {
   "cell_type": "markdown",
   "metadata": {},
   "source": [
    "La fonction **range(start, stop, step=1)** retourne une liste d'entiers compris entre start inclus, stop exclu, avec pas de step"
   ]
  },
  {
   "cell_type": "code",
   "execution_count": 16,
   "metadata": {},
   "outputs": [
    {
     "name": "stdout",
     "output_type": "stream",
     "text": [
      "[1, 2, 3, 4, 5, 6, 7, 8, 9]\n"
     ]
    }
   ],
   "source": [
    "l1 = list(range(1, 10))\n",
    "print(l1)"
   ]
  },
  {
   "cell_type": "markdown",
   "metadata": {},
   "source": [
    "# Opérateurs sur les listes"
   ]
  },
  {
   "cell_type": "code",
   "execution_count": 19,
   "metadata": {},
   "outputs": [
    {
     "name": "stdout",
     "output_type": "stream",
     "text": [
      "[1, 2, 3, 4, 5, 6, 1, 2, 3]\n",
      "[1, 2, 3, 1, 2, 3, 1, 2, 3]\n"
     ]
    }
   ],
   "source": [
    "l1 = [1,2,3] + [4,5,6,1,2,3]\n",
    "print(l1)\n",
    "l1 = [1,2,3] * 3\n",
    "print(l1)"
   ]
  },
  {
   "cell_type": "markdown",
   "metadata": {},
   "source": [
    "# Les tests if, elif, else et les instructions break/continue\n",
    "\n",
    "* **break** permet de quitter la boucle for/while courante\n",
    "* **continue** permet de passer à l'élément suivant dans une boucle for/while"
   ]
  },
  {
   "cell_type": "code",
   "execution_count": 22,
   "metadata": {},
   "outputs": [
    {
     "name": "stdout",
     "output_type": "stream",
     "text": [
      "valeur courant: 1\n",
      "Autre cas: 1\n",
      "Fin traitement de valeur= 1\n",
      "valeur courant: 2\n",
      "7 est pair\n",
      "Fin traitement de valeur= 2\n",
      "valeur courant: 3\n",
      "7 est multiple de 3\n",
      "Fin traitement de valeur= 3\n",
      "valeur courant: 4\n",
      "7 est pair\n",
      "Fin traitement de valeur= 4\n",
      "valeur courant: 5\n",
      "5, on passe au suivant\n",
      "valeur courant: 6\n",
      "7 est pair\n",
      "Fin traitement de valeur= 6\n",
      "valeur courant: 7\n",
      "7, on quitte\n"
     ]
    }
   ],
   "source": [
    "for val in [1,2,3,4,5,6,7,8,9]:\n",
    "    \n",
    "    print(\"valeur courant:\", val)\n",
    "    \n",
    "    # v1 % v2 : reste de la division de v1 divisé par v2 \n",
    "    if val % 2 == 0:\n",
    "        print(\"%s est pair\" % ind)\n",
    "    elif val % 3 == 0:\n",
    "        print(\"%s est multiple de 3\" % ind)\n",
    "    elif val == 5:\n",
    "        print('5, on passe au suivant')\n",
    "        continue\n",
    "    elif val == 7:\n",
    "        print(\"7, on quitte\")\n",
    "        break  # sort immédiatement de la boucle\n",
    "    else:\n",
    "        print('Autre cas:', val)\n",
    "        \n",
    "    print(\"Fin traitement de valeur=\", val)\n",
    "        "
   ]
  },
  {
   "cell_type": "markdown",
   "metadata": {},
   "source": [
    "La boucle for accepte une clause **else**\n",
    "\n",
    "```python\n",
    "for <variable> in <liste de valeurs>:\n",
    "    <instructions>\n",
    "else:\n",
    "    <exécuté si on sort du for sans passer par break>\n",
    "```\n",
    "  "
   ]
  },
  {
   "cell_type": "code",
   "execution_count": 25,
   "metadata": {},
   "outputs": [
    {
     "name": "stdout",
     "output_type": "stream",
     "text": [
      "Pas trouvé\n"
     ]
    }
   ],
   "source": [
    "l = [1,2,3,4,5]\n",
    "for v in l:\n",
    "    if 33 == v:\n",
    "        print(\"Trouvé 33\")\n",
    "        break\n",
    "else:\n",
    "    print(\"Pas trouvé\")"
   ]
  },
  {
   "cell_type": "markdown",
   "metadata": {},
   "source": [
    "# Les nombres"
   ]
  },
  {
   "cell_type": "code",
   "execution_count": 27,
   "metadata": {},
   "outputs": [
    {
     "name": "stdout",
     "output_type": "stream",
     "text": [
      "10 <class 'int'>\n",
      "10.0 <class 'float'>\n",
      "0.3 <class 'float'>\n",
      "(1+10j) <class 'complex'>\n"
     ]
    }
   ],
   "source": [
    "e = 10\n",
    "r = 10.\n",
    "f = .3\n",
    "c = 0 + 10j\n",
    "print(e, type(e))\n",
    "print(r, type(r))\n",
    "print(f, type(f))\n",
    "print(c, type(c))\n"
   ]
  },
  {
   "cell_type": "code",
   "execution_count": null,
   "metadata": {},
   "outputs": [],
   "source": [
    "\"\"\"\n",
    "Opérateurs:\n",
    "+, -, /, * : addition, soustraction, division et multiplication\n",
    "// : division entière\n",
    "% : reste de la division\n",
    "** : exposant\n",
    "q,r =divmod(a, b) : quotient et le reste de a divisé par b\n",
    "& : ET bit à bit\n",
    "| : OU bit à bit\n",
    "^ : OU exclusif bit à bit \n",
    ">> : décalage à droite de n bits\n",
    "<< : décalage à gauche de n bits\n",
    "\"\"\"\n",
    "print( 10 / 3 )\n",
    "print( 10 // 3 )\n",
    "print( 10**3 )\n",
    "q, r = divmod(10,7) # q = 1, r = 3\n",
    "print(q, r)"
   ]
  },
  {
   "cell_type": "markdown",
   "metadata": {},
   "source": [
    "Pas de limite de taille sur les entiers en Python"
   ]
  },
  {
   "cell_type": "code",
   "execution_count": null,
   "metadata": {},
   "outputs": [],
   "source": [
    "# En C on est limité à 2** 64 - 1 comme plus grand entier positif\n",
    "print(2**64-1)\n",
    "# Pas de limite en Python\n",
    "print(2**100)\n",
    "print(2**1000)"
   ]
  },
  {
   "cell_type": "code",
   "execution_count": 28,
   "metadata": {},
   "outputs": [
    {
     "name": "stdout",
     "output_type": "stream",
     "text": [
      "a=10\n",
      "a=[1, 2, 3]\n",
      "a=1 2 3\n",
      "a=(1, 2, 3)\n"
     ]
    }
   ],
   "source": [
    "a = 10\n",
    "print(\"a=%s\" % a)\n",
    "a = [1,2,3]\n",
    "print(\"a=%s\" % a)\n",
    "a = (1,2,3)\n",
    "# print(\"a=%s\" % a)  # TypeError: not all arguments converted during string formatting\n",
    "# # L'opérateur % avec une chaîne prend un tuple de paramètres à formater\n",
    "print(\"a=%s %s %s\" % a)\n",
    "print(\"a=%s\" % (a,))"
   ]
  },
  {
   "cell_type": "markdown",
   "metadata": {},
   "source": [
    "# Notations avancées"
   ]
  },
  {
   "cell_type": "code",
   "execution_count": null,
   "metadata": {},
   "outputs": [],
   "source": [
    "if 2 > 5:\n",
    "    a = \"vrai\"\n",
    "else:\n",
    "    a = 'faux'\n",
    "    \n",
    "a = 'vrai' if 2 > 5 else \"faux\""
   ]
  },
  {
   "cell_type": "markdown",
   "metadata": {},
   "source": [
    "Affectations de portions de listes"
   ]
  },
  {
   "cell_type": "code",
   "execution_count": null,
   "metadata": {},
   "outputs": [],
   "source": [
    "a = [0,1,2,3]\n",
    "a[1:3]=[\"A\", 'B', 'C', 'D']\n",
    "print(a)"
   ]
  },
  {
   "cell_type": "code",
   "execution_count": null,
   "metadata": {},
   "outputs": [],
   "source": [
    "# a[::2] = (1,2,3,4,5) # ValueError: attempt to assign sequence of size 5 to extended slice of size 3\n",
    "a[::2] = (100,200,300)\n",
    "print(a)"
   ]
  },
  {
   "cell_type": "code",
   "execution_count": null,
   "metadata": {},
   "outputs": [],
   "source": [
    "del a[1::2]\n",
    "print(a)"
   ]
  },
  {
   "cell_type": "code",
   "execution_count": null,
   "metadata": {},
   "outputs": [],
   "source": [
    "## Permutation d'éléments\n",
    "a = 10\n",
    "b = 20\n",
    "print(\"a=%s, b=%s\" % (a, b))\n",
    "b, a = a, b\n",
    "print(\"a=%s, b=%s\" % (a, b)) # a=20 et b=10"
   ]
  },
  {
   "cell_type": "markdown",
   "metadata": {},
   "source": [
    "Unpacking de liste/décomposition des éléments d'une liste dans des variables"
   ]
  },
  {
   "cell_type": "code",
   "execution_count": null,
   "metadata": {},
   "outputs": [],
   "source": [
    "a, b, c = [1, 2, 3]\n",
    "print(\"a=%s, b=%s, c=%s\" % (a, b, c))\n"
   ]
  },
  {
   "cell_type": "code",
   "execution_count": null,
   "metadata": {},
   "outputs": [],
   "source": [
    "for a, b in [(1,2), (3,4)]:\n",
    "    print(\"a=%s, b=%s\" % (a, b))"
   ]
  },
  {
   "cell_type": "markdown",
   "metadata": {},
   "source": [
    "### Notation par compréhension\n",
    "\n",
    "Quand on écrit\n",
    "```python\n",
    "var = []\n",
    "\n",
    "for <variable> in <liste de valeurs>:\n",
    "    var.append(<expression>)\n",
    "```\n",
    "Cela peut se condenser en:\n",
    "\n",
    "```python\n",
    "var = [ <expression> for <variable> in <liste de valeurs> ]\n",
    "```\n"
   ]
  },
  {
   "cell_type": "code",
   "execution_count": 29,
   "metadata": {},
   "outputs": [
    {
     "name": "stdout",
     "output_type": "stream",
     "text": [
      "[0, 1, 4, 9, 16, 25, 36, 49, 64, 81]\n"
     ]
    }
   ],
   "source": [
    "carres = [v**2 for v in range(10)]\n",
    "print(carres)"
   ]
  },
  {
   "cell_type": "markdown",
   "metadata": {},
   "source": [
    "\n",
    "Quand on écrit\n",
    "```python\n",
    "var = []\n",
    "\n",
    "for <variable> in <liste de valeurs>:\n",
    "    if <condition>:\n",
    "        var.append(<expression>)\n",
    "```\n",
    "Cela peut se condenser en:\n",
    "\n",
    "```python\n",
    "var = [ <expression> for <variable> in <liste de valeurs> if <condition>]\n",
    "```\n"
   ]
  },
  {
   "cell_type": "code",
   "execution_count": null,
   "metadata": {},
   "outputs": [],
   "source": [
    "cubes = [v**3 for v in range(10) if v % 2 == 0]\n",
    "print(cubes)"
   ]
  },
  {
   "cell_type": "code",
   "execution_count": null,
   "metadata": {},
   "outputs": [],
   "source": [
    "bat_nav = [ (x,y) for x in \"ABC\" for y in (1,2,3) ] \n",
    "print(bat_nav)"
   ]
  },
  {
   "cell_type": "markdown",
   "metadata": {},
   "source": [
    "# Les dictionnaires\n",
    "\n",
    "Ce sont des tableaux de type clef, valeur\n",
    "\n",
    "* La clef peut être de tout type non modifiable (None, booléen, nombre, chaîne, tuple, octets)\n",
    "* La valeur peut être de tout type"
   ]
  },
  {
   "cell_type": "code",
   "execution_count": null,
   "metadata": {},
   "outputs": [],
   "source": [
    "d1 = {}  # un dico vide\n",
    "d2 = { None : \"rien\"\n",
    "     , 10  : (1,2,3,4,5,6,7,8,9,10)\n",
    "     , 3.14 : \"PI\"\n",
    "     , (\"A\",5) : 'Porte avion'\n",
    "     , True : {\"NOM\": \"MARTIN\"}\n",
    "     , \"PRENOM\" : \"Dominique\"\n",
    "     }\n",
    "\n",
    "print(d2)"
   ]
  },
  {
   "cell_type": "code",
   "execution_count": null,
   "metadata": {},
   "outputs": [],
   "source": [
    "## Afficher une valeur du dico\n",
    "print(d2[True])\n",
    "print(d2[10])\n",
    "print(d2['PRENOM'])\n",
    "print(d2[3.14])"
   ]
  },
  {
   "cell_type": "markdown",
   "metadata": {},
   "source": [
    "Ils servent en général à créer des structures de données sans passer par des classes"
   ]
  },
  {
   "cell_type": "code",
   "execution_count": null,
   "metadata": {},
   "outputs": [],
   "source": [
    "personne = { \"NOM\" : \"MARTIN\",\n",
    "             \"PRENOM\" : \"Toto\",\n",
    "             \"AGE\" : 10,\n",
    "             \"VILLE\" : \"PARIS\"\n",
    "           }\n",
    "print(personne)"
   ]
  },
  {
   "cell_type": "code",
   "execution_count": null,
   "metadata": {},
   "outputs": [],
   "source": [
    "# Formatage\n",
    "\n",
    "print(\"Je m'appelle %s %s et j'ai %04d ans\" % (personne['PRENOM']\n",
    "                                            , personne['NOM']\n",
    "                                            , personne['AGE']))\n",
    "\n",
    "print(\"Je m'appelle %(PRENOM)s %(NOM)s et j'ai %(AGE)04d ans\" % personne)\n"
   ]
  },
  {
   "cell_type": "code",
   "execution_count": null,
   "metadata": {},
   "outputs": [],
   "source": [
    "for key in personne:\n",
    "    print(\"Clef: %s, Valeur: %s\" % (key, personne[key]))"
   ]
  },
  {
   "cell_type": "code",
   "execution_count": null,
   "metadata": {},
   "outputs": [],
   "source": [
    "for key, value in personne.items():\n",
    "    print(key, \"**\", value)"
   ]
  },
  {
   "cell_type": "code",
   "execution_count": null,
   "metadata": {},
   "outputs": [],
   "source": [
    "for value in personne.values():\n",
    "    print(value)"
   ]
  },
  {
   "cell_type": "code",
   "execution_count": null,
   "metadata": {},
   "outputs": [],
   "source": [
    "# Ajout, modification, suppression de couple clef, valeur\n",
    "personne['AGE'] = 11  # si la clef existe, elle est modifiée\n",
    "personne['COPINE'] = \"Marguerite\"  # si la clef n'existe pas, elle est ajoutée\n",
    "print(personne)\n",
    "# Suppression\n",
    "del personne['COPINE']\n",
    "print(personne)"
   ]
  },
  {
   "cell_type": "code",
   "execution_count": null,
   "metadata": {},
   "outputs": [],
   "source": [
    "# Accès à une clef inexistante\n",
    "# print(personne['COPINE'])  # KeyError: 'COPINE'\n",
    "\n",
    "# Teste si une clef existe\n",
    "key = \"COPINE\"\n",
    "\n",
    "# personne['COPINE'] = \n",
    "\n",
    "if key in personne: \n",
    "    print(\"Alors Toto, comment va ta copine ?\")\n",
    "else:\n",
    "    print(\"Alors Toto, comment vas-tu ?\")\n",
    "    \n",
    "value = personne.get('COPINE')  # Retourne None si la clef n'existe pas\n",
    "print(value)\n",
    "value = personne.get('COPINE', \"pas de copine\")\n",
    "print(value)\n"
   ]
  },
  {
   "cell_type": "markdown",
   "metadata": {},
   "source": [
    "# Orienté Objet"
   ]
  },
  {
   "cell_type": "markdown",
   "metadata": {},
   "source": [
    "### Déclaration d'une classe"
   ]
  },
  {
   "cell_type": "code",
   "execution_count": 33,
   "metadata": {},
   "outputs": [],
   "source": [
    "class Etudiant():\n",
    "    \"\"\"On crée une simple classe vide.\n",
    "    \n",
    "    Elle contient l'ensemble des régles qui definissent: c'est quoi un Etudiant.\n",
    "    \"\"\""
   ]
  },
  {
   "cell_type": "code",
   "execution_count": 34,
   "metadata": {},
   "outputs": [
    {
     "data": {
      "text/plain": [
       "<__main__.Etudiant at 0x7f8f1c7b1950>"
      ]
     },
     "execution_count": 34,
     "metadata": {},
     "output_type": "execute_result"
    }
   ],
   "source": [
    "nicolas = Etudiant()  # Creation d'une instance d'Etudiant\n",
    "nicolas"
   ]
  },
  {
   "cell_type": "code",
   "execution_count": 35,
   "metadata": {},
   "outputs": [
    {
     "data": {
      "text/plain": [
       "<__main__.Etudiant at 0x7f8f1c7b1a50>"
      ]
     },
     "execution_count": 35,
     "metadata": {},
     "output_type": "execute_result"
    }
   ],
   "source": [
    "zoe = Etudiant()  # Creation d'une differente instance\n",
    "zoe"
   ]
  },
  {
   "cell_type": "markdown",
   "metadata": {},
   "source": [
    "### Attributs"
   ]
  },
  {
   "cell_type": "code",
   "execution_count": 37,
   "metadata": {},
   "outputs": [
    {
     "name": "stdout",
     "output_type": "stream",
     "text": [
      "['Biologie', 'Mathematique', 'Anglais'] 5 Mâle\n",
      "['Biologie', 'Mathematique', 'Anglais'] 5 Mâle\n"
     ]
    }
   ],
   "source": [
    "class Etudiant():\n",
    "    cours = [\"Biologie\", \"Mathematique\", \"Anglais\"]\n",
    "    age = 19\n",
    "    sexe = \"Homme\"\n",
    "\n",
    "print(Etudiant.cours, Etudiant.age, Etudiant.sexe)\n",
    "\n",
    "vince = Etudiant()\n",
    "print(vince.cours, vince.age, vince.sexe)"
   ]
  },
  {
   "cell_type": "code",
   "execution_count": 38,
   "metadata": {},
   "outputs": [
    {
     "name": "stdout",
     "output_type": "stream",
     "text": [
      "['Biologie', 'Mathematique', 'Anglais', 'Philosophie'] ['Biologie', 'Mathematique', 'Anglais', 'Philosophie']\n"
     ]
    }
   ],
   "source": [
    "vince.cours.append('Philosophie')\n",
    "\n",
    "print(vince.cours, Etudiant.cours)"
   ]
  },
  {
   "cell_type": "code",
   "execution_count": 40,
   "metadata": {},
   "outputs": [
    {
     "name": "stdout",
     "output_type": "stream",
     "text": [
      "6 5\n",
      "M Mâle\n"
     ]
    }
   ],
   "source": [
    "vince.age = 25\n",
    "vince.sexe = 'M'\n",
    "\n",
    "print(vince.age, Etudiant.age)\n",
    "print(vince.sexe, Etudiant.sexe)"
   ]
  },
  {
   "cell_type": "markdown",
   "metadata": {},
   "source": [
    "### Méthodes"
   ]
  },
  {
   "cell_type": "code",
   "execution_count": 46,
   "metadata": {},
   "outputs": [],
   "source": [
    "class Etudiant():\n",
    "    cours = [\"Biologie\", \"Mathematique\", \"Anglais\"]\n",
    "    age = 20\n",
    "    sexe = \"Homme\"\n",
    "    \n",
    "    def avoir_anniversaire(self):\n",
    "        \"\"\"\n",
    "        incrémenter l'age de l'instance\n",
    "        Les méthodes sont définies avec un argument qui réference l'instance courante (self par convention) \n",
    "        \"\"\"\n",
    "        self.age += 1"
   ]
  },
  {
   "cell_type": "code",
   "execution_count": 47,
   "metadata": {},
   "outputs": [
    {
     "name": "stdout",
     "output_type": "stream",
     "text": [
      "5\n",
      "6\n"
     ]
    }
   ],
   "source": [
    "vince = Etudiant()\n",
    "\n",
    "print(vince.age)\n",
    "\n",
    "vince.avoir_anniversaire()\n",
    "\n",
    "print(vince.age)"
   ]
  },
  {
   "cell_type": "markdown",
   "metadata": {},
   "source": [
    "### The `__init__` method"
   ]
  },
  {
   "cell_type": "code",
   "execution_count": 49,
   "metadata": {},
   "outputs": [
    {
     "name": "stdout",
     "output_type": "stream",
     "text": [
      "['Biologie', 'Anglais'] 8 Mâle\n"
     ]
    }
   ],
   "source": [
    "class Etudiant():\n",
    "    def __init__(self, cours, age, sexe):\n",
    "        \"\"\"\n",
    "        Méthode spécial qui définie comment un étudiant est construit\n",
    "        \"\"\"\n",
    "        self.cours = cours\n",
    "        self.age = age\n",
    "        self.sexe = sexe\n",
    "\n",
    "    def avoir_anniversaire(self):\n",
    "        self.age += 1\n",
    "\n",
    "vince = Etudiant([\"Biologie\", \"Anglais\"], 17, \"Homme\")\n",
    "vince.avoir_anniversaire()\n",
    "\n",
    "print(vince.cours, vince.age, vince.sexe)"
   ]
  },
  {
   "cell_type": "markdown",
   "metadata": {},
   "source": [
    "### Héritage"
   ]
  },
  {
   "cell_type": "code",
   "execution_count": 51,
   "metadata": {},
   "outputs": [
    {
     "name": "stdout",
     "output_type": "stream",
     "text": [
      "['Mathématique', 'Physique', 'Anglais'] 21 Femme Mathématique\n"
     ]
    }
   ],
   "source": [
    "class Etudiant_Matheux(Etudiant):\n",
    "    cours_favoris = \"Mathématique\"\n",
    "    \n",
    "sara = Etudiant_Matheux([\"Mathématique\", \"Physique\", \"Anglais\"], 20, \"Femme\")\n",
    "\n",
    "print(sara.cours, sara.age, sara.sexe, sara.cours_favoris)"
   ]
  },
  {
   "cell_type": "code",
   "execution_count": 52,
   "metadata": {},
   "outputs": [
    {
     "name": "stdout",
     "output_type": "stream",
     "text": [
      "22\n"
     ]
    }
   ],
   "source": [
    "sara.avoir_anniversaire()\n",
    "print(sara.age)"
   ]
  }
 ],
 "metadata": {
  "kernelspec": {
   "display_name": "Python 3",
   "language": "python",
   "name": "python3"
  },
  "language_info": {
   "codemirror_mode": {
    "name": "ipython",
    "version": 3
   },
   "file_extension": ".py",
   "mimetype": "text/x-python",
   "name": "python",
   "nbconvert_exporter": "python",
   "pygments_lexer": "ipython3",
   "version": "3.7.4"
  }
 },
 "nbformat": 4,
 "nbformat_minor": 2
}
