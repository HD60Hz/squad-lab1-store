{
 "cells": [
  {
   "cell_type": "markdown",
   "metadata": {},
   "source": [
    "# Types de données\n",
    "\n",
    "En Python il existe 7 types de données principaux:\n",
    "\n",
    "* La constante **None**, NULL en C/C++ ou null en Java\n",
    "* Les booléens **True** et **False**\n",
    "* Les nombres (entiers, réels, complexes, ...)\n",
    "* Les chaînes de caractères\n",
    "* Les tableaux indicés (listes et les tuples)\n",
    "* Les tableaux associatifs de type clef/valeur (map/hashtable de Java, C++, Perl)\n",
    "* Les tableaux d'octets"
   ]
  },
  {
   "cell_type": "markdown",
   "metadata": {},
   "source": [
    "En python, pour créer une variable, une boîte qui contient une valeur, on lui donne un nom et on lui affecte la valeur avec le symbole `=` "
   ]
  },
  {
   "cell_type": "code",
   "execution_count": 4,
   "metadata": {},
   "outputs": [
    {
     "name": "stdout",
     "output_type": "stream",
     "text": [
      "None <class 'NoneType'>\n"
     ]
    }
   ],
   "source": [
    "var = None\n",
    "print(var, type(var))"
   ]
  },
  {
   "cell_type": "markdown",
   "metadata": {},
   "source": [
    "En python, une variable peut changer de type"
   ]
  },
  {
   "cell_type": "code",
   "execution_count": 5,
   "metadata": {},
   "outputs": [
    {
     "name": "stdout",
     "output_type": "stream",
     "text": [
      "True <class 'bool'>\n"
     ]
    }
   ],
   "source": [
    "var = True\n",
    "print(var, type(var))"
   ]
  },
  {
   "cell_type": "code",
   "execution_count": 6,
   "metadata": {},
   "outputs": [
    {
     "name": "stdout",
     "output_type": "stream",
     "text": [
      "10 <class 'int'>\n"
     ]
    }
   ],
   "source": [
    "var = 10\n",
    "print(var, type(var))"
   ]
  },
  {
   "cell_type": "code",
   "execution_count": null,
   "metadata": {},
   "outputs": [],
   "source": [
    "var = 3.14\n",
    "print(var, type(var))"
   ]
  },
  {
   "cell_type": "code",
   "execution_count": 1,
   "metadata": {},
   "outputs": [
    {
     "name": "stdout",
     "output_type": "stream",
     "text": [
      "1j <class 'complex'> (-1+0j)\n"
     ]
    }
   ],
   "source": [
    "var = 0 + 1j  # 1j est le nombre imaginaire i, tel que  i*i = -1\n",
    "print(var, type(var), var * var)"
   ]
  },
  {
   "cell_type": "code",
   "execution_count": null,
   "metadata": {},
   "outputs": [],
   "source": [
    "var = \"Le corbeau et le renard\"\n",
    "print(var, type(var))"
   ]
  },
  {
   "cell_type": "markdown",
   "metadata": {},
   "source": [
    "Tableaux indicés:\n",
    "\n",
    "* En Python, comme en C/Java et Perl les tableaux ont des indices qui commencent à zéro\n",
    "* Ils peuvent contenir n'importe quel type, ce qui est très pratique\n"
   ]
  },
  {
   "cell_type": "code",
   "execution_count": 7,
   "metadata": {},
   "outputs": [
    {
     "name": "stdout",
     "output_type": "stream",
     "text": [
      "[None, True, 10, 3.14, 1j, ['toto', 'titi'], 'tata'] <class 'list'>\n"
     ]
    }
   ],
   "source": [
    "var = [None, True, 10, 3.14, 0+1j, [\"toto\", \"titi\"], \"tata\"]\n",
    "print(var, type(var))"
   ]
  },
  {
   "cell_type": "code",
   "execution_count": null,
   "metadata": {},
   "outputs": [],
   "source": [
    "print(\"NB éléments du tableau:\", len(var))"
   ]
  },
  {
   "cell_type": "markdown",
   "metadata": {},
   "source": [
    "On accède à un élément avec la syntaxe `<variable>[<position/indice qui commence à 0>]`"
   ]
  },
  {
   "cell_type": "code",
   "execution_count": null,
   "metadata": {},
   "outputs": [],
   "source": [
    "# print(var[0])\n",
    "# print(var[1])\n",
    "# print(var[5][1])"
   ]
  },
  {
   "cell_type": "code",
   "execution_count": null,
   "metadata": {},
   "outputs": [],
   "source": [
    "# modification de la valeur d'un élément du tableau\n",
    "var[0] = 1000\n",
    "print(var)"
   ]
  },
  {
   "cell_type": "markdown",
   "metadata": {},
   "source": [
    "Un tuple est comme une liste, mais on ne peut pas modifier son contenu une fois créé:\n",
    "\n",
    "* En C++ `const * const`\n",
    "* En Java `final`"
   ]
  },
  {
   "cell_type": "code",
   "execution_count": 8,
   "metadata": {},
   "outputs": [
    {
     "name": "stdout",
     "output_type": "stream",
     "text": [
      "(None, 10, 3.14, 1j, 'riri', ('fifi', 'loulou')) <class 'tuple'>\n"
     ]
    }
   ],
   "source": [
    "var = (None, 10, 3.14, 0+1j, \"riri\", (\"fifi\", \"loulou\"))\n",
    "print(var, type(var))"
   ]
  },
  {
   "cell_type": "code",
   "execution_count": null,
   "metadata": {},
   "outputs": [],
   "source": [
    "print(var[0])\n",
    "print(var[1])\n",
    "print(var[5][1])"
   ]
  },
  {
   "cell_type": "code",
   "execution_count": null,
   "metadata": {},
   "outputs": [],
   "source": [
    "var[0] = 1000  # ?\n"
   ]
  },
  {
   "cell_type": "markdown",
   "metadata": {},
   "source": [
    "Un dictionnaire est un tableau de type (clef, valeur)\n",
    "\n",
    "* La clef est limitée à certains types:   \n",
    "  None, nombres, booléens, chaînes et tuples\n",
    "* La valeur peut être de tout type"
   ]
  },
  {
   "cell_type": "code",
   "execution_count": null,
   "metadata": {},
   "outputs": [],
   "source": [
    "var = { \"CLEF\": \"VALEUR\", \"NOM\": \"DURAND\", \"AGE\": 20 }\n",
    "print(var, type(var))"
   ]
  },
  {
   "cell_type": "code",
   "execution_count": null,
   "metadata": {},
   "outputs": [],
   "source": [
    "print(var[\"NOM\"])"
   ]
  },
  {
   "cell_type": "code",
   "execution_count": null,
   "metadata": {},
   "outputs": [],
   "source": [
    "var[\"NOM\"] = \"DURANT\"\n",
    "print(var)"
   ]
  },
  {
   "cell_type": "markdown",
   "metadata": {},
   "source": [
    "Tableaux d'octets\n",
    "\n",
    "Bien qu'affichés comme des chaînes pour tout caractère imprimable, ils contiennent des valeurs de 0 à 255"
   ]
  },
  {
   "cell_type": "code",
   "execution_count": 9,
   "metadata": {},
   "outputs": [
    {
     "name": "stdout",
     "output_type": "stream",
     "text": [
      "7\n"
     ]
    }
   ],
   "source": [
    "var = \"planète\"\n",
    "print(len(var))"
   ]
  },
  {
   "cell_type": "code",
   "execution_count": 10,
   "metadata": {},
   "outputs": [
    {
     "name": "stdout",
     "output_type": "stream",
     "text": [
      "b'plan\\xc3\\xa8te' <class 'bytes'> 8\n"
     ]
    }
   ],
   "source": [
    "o = var.encode(\"utf8\")  # conversion en octets en utilisant l'encodage UTF8\n",
    "print(o, type(o), len(o))  # \\xc3 caractère dont code ASCII est c3 en hexadécimal"
   ]
  },
  {
   "cell_type": "code",
   "execution_count": 11,
   "metadata": {},
   "outputs": [
    {
     "name": "stdout",
     "output_type": "stream",
     "text": [
      "b'plan\\x8ate' <class 'bytes'> 7\n"
     ]
    }
   ],
   "source": [
    "o = var.encode(\"ibm437\")\n",
    "print(o, type(o), len(o))"
   ]
  },
  {
   "cell_type": "code",
   "execution_count": 12,
   "metadata": {},
   "outputs": [
    {
     "name": "stdout",
     "output_type": "stream",
     "text": [
      "b'plan\\xe8te' <class 'bytes'> 7\n"
     ]
    }
   ],
   "source": [
    "o = var.encode(\"ISO-8859-15\")\n",
    "print(o, type(o), len(o))"
   ]
  },
  {
   "cell_type": "markdown",
   "metadata": {},
   "source": [
    "## Le nom d'un type peut servir de fonction de conversion"
   ]
  },
  {
   "cell_type": "code",
   "execution_count": null,
   "metadata": {},
   "outputs": [],
   "source": [
    "pi = 3.14\n",
    "print(type(pi))\n",
    "# print( int(pi) )\n",
    "# print( str(pi) * 3 )\n",
    "# print(list(\"ABC\"))\n",
    "# print(str(['A', 'B', 'C']))\n",
    "# print(bool(1), bool(0))\n",
    "# print( float(3) )\n",
    "# print( int(\"12\") * 3 )\n",
    "# print( int('1A', base=16))\n",
    "# print( int(\"1010\", base=2))"
   ]
  },
  {
   "cell_type": "markdown",
   "metadata": {},
   "source": [
    "# Les chaînes de caractères"
   ]
  },
  {
   "cell_type": "markdown",
   "metadata": {},
   "source": [
    "On peut délimiter une chaîne de 4 façons différentes"
   ]
  },
  {
   "cell_type": "code",
   "execution_count": null,
   "metadata": {},
   "outputs": [],
   "source": [
    "s1 = \"Le corbeau dit au renard:\\n\\\"Oh bonjour l'ami Renard\\\" \"\n",
    "s2 = 'Le corbeau dit au renard:\\n\"Oh bonjour l\\'ami Renard\" '\n",
    "# Les chaînes entourées de triples guillemets/apostrophes\n",
    "# sont appelées docstring, car elles permettent de documenter le code\n",
    "s3 = \"\"\"Le corbeau dit au renard:\n",
    "\"Oh bonjour l'ami Du Renard\" \"\"\"\n",
    "s4 = '''Le corbeau dit au renard:\n",
    "\"Oh bonjour l'ami Du Renard\" '''\n",
    "# print(s1, type(s1))\n",
    "# print(s2, type(s2))\n",
    "# print(s3, type(s3))\n",
    "# print(s4, type(s4))\n",
    "# # L'opérateur de comparaison est ==\n",
    "# print(s1 == s2, s2 == s3, s3 == s4, s4 == s1)"
   ]
  },
  {
   "cell_type": "code",
   "execution_count": null,
   "metadata": {},
   "outputs": [],
   "source": [
    "# Formatage de chaîne\n",
    "a = 10\n",
    "b = 20\n",
    "a, b = 10, 20 # identique aux 2 premières lignes\n",
    "print(\"a=\", a, \"b=\", b)\n",
    "# print(\"a=\", a, \" b=\", b, sep=\"\")  # pas de caractère de séparation \n",
    "#                                   # après ,\n",
    "# print(\"a=\", a, \" b=\", b, sep=\"*\")\n",
    "\n",
    "# # On peut concaténer comme en java\n",
    "# print(\"a=\" + str(a) + \" b=\" + str(b))  # str(x) convertit la variable x\n",
    "#                                        # en chaîne\n",
    "# # syntaxe similaire au printf du C\n",
    "# print(\"a=%s, b=%s\" % (a, b))\n",
    "# print(\"a=%08d **** b=%08.2f\" % (a, b))\n",
    "\n",
    "# # la fonction format\n",
    "# print(\"a={0} **** b={1}\".format(a, b) ) # {0} : param d'incide 0\n",
    "# print(\"a={0:08d} **** b={1:08.2f}\".format(a, b) )\n",
    "# print(\"a={param1:08d}, b={autre:08.2f}\".format(autre=b, param1=a))\n",
    "\n",
    "# # Depuis Python 3.6\n",
    "# toto = a\n",
    "# print( f\"a={toto:08d}, b={b}, a+2b={toto+b*2}\" )"
   ]
  },
  {
   "cell_type": "code",
   "execution_count": null,
   "metadata": {},
   "outputs": [],
   "source": [
    "# Pas d'évaluation dans les chaînes entourées de guillemets comme\n",
    "# en perl ou bash\n",
    "a, b = 10,20\n",
    "print(\"a=$a, b=$b\")\n",
    "print('a=$a, b=$b')"
   ]
  },
  {
   "cell_type": "markdown",
   "metadata": {},
   "source": [
    "# Fonctions utiles sur les chaînes"
   ]
  },
  {
   "cell_type": "code",
   "execution_count": 14,
   "metadata": {},
   "outputs": [
    {
     "name": "stdout",
     "output_type": "stream",
     "text": [
      "Longueur: 23\n"
     ]
    }
   ],
   "source": [
    "s = 'Le corbeau et le renard'\n",
    "print(\"Longueur:\", len(s))\n",
    "# Couper une chaîne en morceaux\n",
    "# print(s.split(\" \"))\n",
    "# # Une chaîne en contient-elle une autre\n",
    "# print(\"corbeau\" in s)\n",
    "# print(s.index(\"corbeau\"))\n",
    "# print(s.find(\"corbeau\"))  # -1 si pas trouvé, sinon position du 1er carac\n",
    "# # Concaténer une liste de chaînes\n",
    "# mots = ['Le', 'corbeau', 'et', 'le', 'renard']\n",
    "# print(\"*-*\".join(mots))\n",
    "# # Connaître le code ASCII/Unicode des caractères\n",
    "# print(ord(\"A\")) # code ASCII de A\n",
    "# # Afficher un caractère à partir de son code ASCII/Unicode\n",
    "# print(chr(65))\n"
   ]
  },
  {
   "cell_type": "markdown",
   "metadata": {},
   "source": [
    "# Indexation/Slicing\n",
    "\n",
    "En Python on peut accéder à un élément d'une liste/tuple/chaîne/collection via la syntaxe:\n",
    "\n",
    "* `<variable>[<indice qui commence à 0>]`\n",
    "\n",
    "On peut aussi accéder à des portions de chaînes avec la syntaxe\n",
    "\n",
    "* `<variable>[<indice début qui commence à 0>:<indice fin exclu>:<incrément>]`\n",
    "    * Si pas d'indice de début => 0\n",
    "    * Si pas d'indice de fin => jusqu'à la fin\n",
    "    * Si pas d'incrément => 1\n",
    "    * On peut avoir des indices négatifs : -1 est le dernier\n",
    "\n"
   ]
  },
  {
   "cell_type": "markdown",
   "metadata": {},
   "source": [
    "Qu'affichent ces exemples?"
   ]
  },
  {
   "cell_type": "code",
   "execution_count": null,
   "metadata": {},
   "outputs": [],
   "source": [
    "s=\"Le lion et le moustique\"\n",
    "print(s[0])\n",
    "# print(s[-1])\n",
    "# print(s[0:7:1])\n",
    "# print(s[0:7:2])\n",
    "# print(s[7::])\n",
    "# print(s[::2])\n",
    "# print(s[-9:])\n",
    "# print(s[-9:-5])\n",
    "# print(s[15:10:-1])\n",
    "# print(\"*\" + s[10:15:-1] + \"*\")\n",
    "# print(\"*\" + s[-10:-15:1] + \"*\")\n",
    "# print(\"*\" + s[-10:-15:-1] + \"*\")\n",
    "# print(s[::-1])  # par convention: la chaîne à l'envers"
   ]
  },
  {
   "cell_type": "markdown",
   "metadata": {},
   "source": [
    "# Parcours des caractères d'une chaîne\n",
    "\n",
    "```python\n",
    "for <variable> in <chaîne>:\n",
    "    <instructions indentées>\n",
    "```"
   ]
  },
  {
   "cell_type": "code",
   "execution_count": null,
   "metadata": {},
   "outputs": [],
   "source": [
    "s = \"La grenouille et le boeuf\"\n",
    "\n",
    "for ma_variable in s:\n",
    "    print(\"Caractère courant:\", ma_variable)"
   ]
  },
  {
   "cell_type": "code",
   "execution_count": null,
   "metadata": {},
   "outputs": [],
   "source": [
    "for car in \"ABC\":\n",
    "    print(\"car=\", car)\n",
    "    print(\"car + car=\", car + car)\n",
    "print(\"Non indenté, donc pas dans la boucle\")"
   ]
  },
  {
   "cell_type": "code",
   "execution_count": null,
   "metadata": {},
   "outputs": [],
   "source": [
    "# reprendre la cellule précédente en indentant de seulement 2 caractère la 3ème ligne"
   ]
  },
  {
   "cell_type": "markdown",
   "metadata": {},
   "source": [
    "## La boucle while\n",
    "\n",
    "```python\n",
    "while <condition vraie>:\n",
    "    <suite d'instructions indentées>\n",
    "```"
   ]
  },
  {
   "cell_type": "code",
   "execution_count": null,
   "metadata": {},
   "outputs": [],
   "source": [
    "s = \"ABC\"\n",
    "ind = 0\n",
    "while ind < len(s):\n",
    "    print(\"Indice courant:\", ind, \"Car courant:\", s[ind])\n",
    "    ind = ind + 1"
   ]
  },
  {
   "cell_type": "markdown",
   "metadata": {},
   "source": [
    "La fonction **enumerate** : elle retourne une liste de couples (indice, élément)"
   ]
  },
  {
   "cell_type": "code",
   "execution_count": null,
   "metadata": {},
   "outputs": [],
   "source": [
    "s = \"ABC\"\n",
    "e = enumerate(s)\n",
    "print(e)\n",
    "print(list(e))"
   ]
  },
  {
   "cell_type": "code",
   "execution_count": null,
   "metadata": {},
   "outputs": [],
   "source": [
    "for couple in enumerate(s):\n",
    "    print(\"couple courant\", couple)"
   ]
  },
  {
   "cell_type": "markdown",
   "metadata": {},
   "source": [
    "**Exercice**\n",
    "\n",
    "* Récupérer le premier élément du couple dans une variable `ind`\n",
    "* Le second dans une variable `car` et les afficher\n"
   ]
  },
  {
   "cell_type": "code",
   "execution_count": null,
   "metadata": {},
   "outputs": [],
   "source": [
    "<a vous de jouer>"
   ]
  },
  {
   "cell_type": "code",
   "execution_count": null,
   "metadata": {},
   "outputs": [],
   "source": [
    "# Présenter la version plus courte"
   ]
  },
  {
   "cell_type": "code",
   "execution_count": null,
   "metadata": {},
   "outputs": [],
   "source": []
  },
  {
   "cell_type": "markdown",
   "metadata": {},
   "source": [
    "## Opérateurs"
   ]
  },
  {
   "cell_type": "code",
   "execution_count": null,
   "metadata": {},
   "outputs": [],
   "source": [
    "# concaténation\n",
    "s = \"riri\" + \"fifi\" + \"loulou\"\n",
    "print(s)\n",
    "# répétition\n",
    "# s = \"1000\" * 3 \n",
    "# print(s)"
   ]
  },
  {
   "cell_type": "markdown",
   "metadata": {},
   "source": [
    "## Exercices\n",
    "\n",
    "### Tester si une chaîne est un palindrôme\n",
    "Un palindrome est un texte qui s'écrit de manière identique à l'endroit comme à l'envers : \"ABBA\" est un palindrôme"
   ]
  },
  {
   "cell_type": "code",
   "execution_count": null,
   "metadata": {},
   "outputs": [],
   "source": [
    "chaine = \"ABBA\"\n",
    "\n",
    "# En inversant les caractères 1 à 1\n"
   ]
  },
  {
   "cell_type": "code",
   "execution_count": null,
   "metadata": {},
   "outputs": [],
   "source": [
    "# En 1 ligne"
   ]
  },
  {
   "cell_type": "markdown",
   "metadata": {},
   "source": [
    "### Afficher les caractères dont le code est compris entre 2 variables\n",
    "Soit 2 variables `start` et `stop` afficher les caractères dont le code ASCII est compris entre start et stop inclus\n",
    "\n",
    "```\n",
    "start = 1000\n",
    "stop = start + 1000\n",
    "```\n",
    "\n",
    "Si vous avez déjà fini(par copier/coller de la fonction **square**) essayer de faire varier start avec un slider"
   ]
  },
  {
   "cell_type": "code",
   "execution_count": null,
   "metadata": {},
   "outputs": [],
   "source": [
    "# %%timeit -n 1 -r 1\n",
    "start = 50000\n",
    "stop = start + 1000\n",
    "\n"
   ]
  },
  {
   "cell_type": "code",
   "execution_count": 2,
   "metadata": {},
   "outputs": [
    {
     "data": {
      "application/vnd.jupyter.widget-view+json": {
       "model_id": "bd5681eb41444e6ca811f8312cec765e",
       "version_major": 2,
       "version_minor": 0
      },
      "text/plain": [
       "interactive(children=(IntSlider(value=50, description='x'), Output()), _dom_classes=('widget-interact',))"
      ]
     },
     "metadata": {},
     "output_type": "display_data"
    }
   ],
   "source": [
    "from ipywidgets import interact\n",
    "# IPython.html.widgets before\n",
    "# IPython 4.0\n",
    "@interact(x=(0,100))\n",
    "def square(x):\n",
    "    pass\n"
   ]
  },
  {
   "cell_type": "markdown",
   "metadata": {},
   "source": [
    "### Afficher un sapin de Noël ayant N branches \n",
    "\n",
    "N = 4\n",
    "\n",
    "```\n",
    "   ^\n",
    "  ^^^\n",
    " ^^^^^\n",
    "^^^^^^^\n",
    "``` "
   ]
  },
  {
   "cell_type": "code",
   "execution_count": null,
   "metadata": {},
   "outputs": [],
   "source": [
    "<a vous de jouer>"
   ]
  },
  {
   "cell_type": "code",
   "execution_count": null,
   "metadata": {},
   "outputs": [],
   "source": [
    "# et avec interact ?"
   ]
  },
  {
   "cell_type": "code",
   "execution_count": 16,
   "metadata": {},
   "outputs": [
    {
     "data": {
      "text/plain": [
       "'        toto        '"
      ]
     },
     "execution_count": 16,
     "metadata": {},
     "output_type": "execute_result"
    }
   ],
   "source": [
    "\"{0:^20s}\".format('toto')"
   ]
  },
  {
   "cell_type": "markdown",
   "metadata": {},
   "source": [
    "# Les tableaux indicés\n",
    "\n",
    "* Listes qui s'écrivent avec des crochets\n",
    "* Tuples qui s'écrivent avec des parenthèses\n",
    "\n",
    "Un tuple est un tableau non modifiable"
   ]
  },
  {
   "cell_type": "code",
   "execution_count": null,
   "metadata": {},
   "outputs": [],
   "source": [
    "l1 = []\n",
    "l2 = [None, 10, 3.14, \"toto\", [1,2,3], (4,5,6), {\"NOM\": \"Dupond\"}]\n",
    "t1 = ()\n",
    "t2 = (None, 10, 3.14, \"toto\", [1,2,3], (4,5,6), {\"NOM\": \"Dupond\"})\n",
    "print(type(l1), type(t1))\n"
   ]
  },
  {
   "cell_type": "code",
   "execution_count": null,
   "metadata": {},
   "outputs": [],
   "source": [
    "tuple(l2)"
   ]
  },
  {
   "cell_type": "code",
   "execution_count": null,
   "metadata": {},
   "outputs": [],
   "source": [
    "list(t2)"
   ]
  },
  {
   "cell_type": "markdown",
   "metadata": {},
   "source": [
    "Notation par indices fonctionne comme avec les chaînes"
   ]
  },
  {
   "cell_type": "code",
   "execution_count": null,
   "metadata": {},
   "outputs": [],
   "source": [
    "print( t2[2] )\n",
    "# print( t2[4:] )\n",
    "# print( l2[-1] )\n",
    "# print( l2[-1]['NOM'] )\n",
    "# print( l2[-2][2] )\n",
    "# print( l2[-2:2] )\n",
    "# print( l2[2:-2])\n",
    "# print( l2[-2:2:-1])"
   ]
  },
  {
   "cell_type": "code",
   "execution_count": null,
   "metadata": {},
   "outputs": [],
   "source": [
    "l2[0] = 1\n",
    "print(l2)\n",
    "# t2[0] = 1 # TypeError: 'tuple' object does not support item assignment\n"
   ]
  },
  {
   "cell_type": "markdown",
   "metadata": {},
   "source": [
    "## Quelques fonctions utiles sur les listes"
   ]
  },
  {
   "cell_type": "code",
   "execution_count": null,
   "metadata": {},
   "outputs": [],
   "source": [
    "l = [1,2,3]\n",
    "\n",
    "print(\"Longueur:\", len(l))\n",
    "# Ajout en fin\n",
    "# l.append(4)\n",
    "# print(l)\n",
    "# # Insertion à un indice donné\n",
    "# l.insert(2, 2.5)\n",
    "# print(l)\n",
    "# # Suppression à un indice donné\n",
    "# del l[2]\n",
    "# print(l)\n",
    "# # Supprimer le dernier en récupérant la valeur\n",
    "# v = l.pop()\n",
    "# print(v, l)\n",
    "# # Suppression à une position donnée\n",
    "# v = l.pop(0)\n",
    "# print(v, l)"
   ]
  },
  {
   "cell_type": "code",
   "execution_count": null,
   "metadata": {},
   "outputs": [],
   "source": [
    "# l = [1,10,5,9,8]\n",
    "# # tri de la liste\n",
    "# l.sort()  # modifie la liste\n",
    "# print(l)\n",
    "# # Tester si une valeur est dans la liste\n",
    "# print( 8 in l, \"toto\" in l )\n",
    "# print( l.index(8) )\n",
    "# # Supprimer une valeur de la liste\n",
    "# l = [1,22,3,4,3,4]\n",
    "# l.remove(3)\n",
    "# print(l)"
   ]
  },
  {
   "cell_type": "markdown",
   "metadata": {},
   "source": [
    "## Types modifiables et non modifiables\n",
    "\n",
    "En Python, il y a 2 notions importantes qui sont sources de bugs quand on débute\n",
    "\n",
    "Les types sont classés en 2 genres:\n",
    "\n",
    "* Les types modifiables/mutable  \n",
    "  Listes et dictionnaires\n",
    "* Les types non modifiables/unmutable  \n",
    "  chaines, None, booléens, nombres, octets, tuples\n",
    "  \n",
    "  \n",
    "Un type non modifiable est stocké dans une mémoire read-only, une fois créé on ne peut le modifier là ou il est stocké.  Si sa variable change de valeur, elle change d'adresse mémoire\n",
    "\n",
    "En python, quelque soit les types manipulés, les affectations se font toujours par copie de pointeur/référence/adresse mémoire, jamais par duplication de valeur"
   ]
  },
  {
   "cell_type": "code",
   "execution_count": null,
   "metadata": {},
   "outputs": [],
   "source": [
    "a = 10\n",
    "print(\"Adresse mémoire de a:\", id(a))\n",
    "b = a\n",
    "print(\"Adresse mémoire de b:\", id(b))\n",
    "# a = a + 1\n",
    "# print(a)\n",
    "# print(b)\n",
    "# print(\"Adresse mémoire de a:\", id(a))"
   ]
  },
  {
   "cell_type": "code",
   "execution_count": null,
   "metadata": {},
   "outputs": [],
   "source": [
    "s1 = 'BONJOUR'\n",
    "s2 = s1\n",
    "print(\"Adresse mémoire de s1:\", id(s1))\n",
    "print(\"Adresse mémoire de s2:\", id(s2))\n",
    "print( id(s1) == id(s2), s1 is s2 )\n",
    "# s1 = s1 + \" AU REVOIR\"\n",
    "# print(s1)\n",
    "# print(s2)\n",
    "# print(\"Adresse mémoire de s1:\", id(s1))"
   ]
  },
  {
   "cell_type": "code",
   "execution_count": null,
   "metadata": {},
   "outputs": [],
   "source": [
    "# %%time\n",
    "s1 = \"BONJOUR\"\n",
    "# s1[0] = 'b'  # TypeError: 'str' object does not support item assignment\n",
    "# Exercice, mettre le premier caractère de s1 en minuscule\n",
    "<a vous de jouer>"
   ]
  },
  {
   "cell_type": "markdown",
   "metadata": {},
   "source": [
    "**ATTENTION** aux effets de bords avec les types modifiables\n",
    "\n",
    "\n",
    "Visualiser ce code sur le site http://www.pythontutor.com"
   ]
  },
  {
   "cell_type": "code",
   "execution_count": null,
   "metadata": {},
   "outputs": [],
   "source": [
    "l1 = [1, 2, 3]\n",
    "l2 = l1\n",
    "l2.append(4)\n",
    "print(\"L2=\", l2)\n",
    "# print(\"L1=\", l1)\n",
    "# print(\"Adresse de l1:\", id(l1))\n",
    "# print(\"Adresse de l2:\", id(l2))"
   ]
  },
  {
   "cell_type": "markdown",
   "metadata": {},
   "source": [
    "Modifier ce code pour que L2 soit une vraie copie de L1\n",
    "\n",
    "* Chercher la fonction qui permet de copier une liste\n",
    "* utiliser la notation avec `[debut:fin:pas]` \n",
    "* convertir la liste en liste\n",
    "* créer une liste vide et lui ajouter les éléments de l1\n",
    "* ..."
   ]
  },
  {
   "cell_type": "code",
   "execution_count": null,
   "metadata": {},
   "outputs": [],
   "source": [
    "l1 = [1, 2, 3]\n",
    "\n",
    "<a vous de jouer>\n",
    "\n",
    "print(\"L2=\", l2)  # 1,2,3,4\n",
    "print(\"L1=\", l1)  # 1,2,3\n"
   ]
  },
  {
   "cell_type": "markdown",
   "metadata": {},
   "source": [
    "La fonction **range(start, stop, step=1)** retourne une liste d'entiers compris entre start inclus, stop exclu, avec pas de step"
   ]
  },
  {
   "cell_type": "code",
   "execution_count": null,
   "metadata": {},
   "outputs": [],
   "source": [
    "l1 = list(range(1, 10**6)) # liste des entiers de 1 à 1 million exclu\n",
    "# quelles sont les syntaxes les plus rapides ?"
   ]
  },
  {
   "cell_type": "markdown",
   "metadata": {},
   "source": [
    "Attention, ces solutions ne sont pas optimales"
   ]
  },
  {
   "cell_type": "code",
   "execution_count": null,
   "metadata": {},
   "outputs": [],
   "source": [
    "l1 = [ 1, 2, 3 ]\n",
    "l2 = [ l1, 4, 5, 6 ]\n",
    "print(\"L2=\", l2)\n",
    "l3 = <une des solutions>\n",
    "l3.append(7)\n",
    "print(\"L3=\", l3)\n",
    "print(\"L2=\", l2)\n",
    "l3[0].append(4)\n",
    "print(\"L3=\", l3)\n",
    "print(\"L2=\", l2)\n",
    "print(\"L1=\", l1)"
   ]
  },
  {
   "cell_type": "markdown",
   "metadata": {},
   "source": [
    "Pour contourner ce problème on utilise la fonction **deepcopy** du module copy"
   ]
  },
  {
   "cell_type": "code",
   "execution_count": null,
   "metadata": {},
   "outputs": [],
   "source": [
    "import copy\n",
    "l1 = [ 1, 2, 3 ]\n",
    "l2 = [ l1, 4, 5, 6 ]\n",
    "print(\"L2=\", l2)\n",
    "l3 = <deep copy>\n",
    "l3.append(7)\n",
    "print(\"L3=\", l3)\n",
    "print(\"L2=\", l2)\n",
    "l3[0].append(4)\n",
    "print(\"L3=\", l3)\n",
    "print(\"L2=\", l2)\n",
    "print(\"L1=\", l1)"
   ]
  },
  {
   "cell_type": "markdown",
   "metadata": {},
   "source": [
    "# Opérateurs sur les listes"
   ]
  },
  {
   "cell_type": "code",
   "execution_count": null,
   "metadata": {},
   "outputs": [],
   "source": [
    "l1 = [1,2,3] + [4,5,6,1,2,3]\n",
    "# print(l1)\n",
    "l1 = [1,2,3] * 3\n",
    "# print(l1)"
   ]
  },
  {
   "cell_type": "markdown",
   "metadata": {},
   "source": [
    "# Les tests if, elif, else et les instructions break/continue\n",
    "\n",
    "* **break** permet de quitter la boucle for/while courante\n",
    "* **continue** permet de passer à l'élément suivant dans une boucle for/while"
   ]
  },
  {
   "cell_type": "code",
   "execution_count": null,
   "metadata": {},
   "outputs": [],
   "source": [
    "for ind in [1,2,3,4,5,6,7,8,9]:\n",
    "    \n",
    "    print(\"Indice courant:\", ind)\n",
    "    \n",
    "    # v1 % v2 : reste de la division de v1 divisé par v2 \n",
    "    if ind % 2 == 0:\n",
    "        print(\"%s est pair\" % ind)\n",
    "    elif ind % 3 == 0:\n",
    "        print(\"%s est multiple de 3\" % ind)\n",
    "    elif ind == 5:\n",
    "        print('5, on passe au suivant')\n",
    "        continue\n",
    "    elif ind == 7:\n",
    "        print(\"7, on quitte\")\n",
    "        break  # sort immédiatement de la boucle\n",
    "    else:\n",
    "        print('Autre cas:', ind)\n",
    "        \n",
    "    print(\"Fin traitement de ind=\", ind)\n",
    "        "
   ]
  },
  {
   "cell_type": "markdown",
   "metadata": {},
   "source": [
    "# Exercices\n",
    "\n",
    "## Intersection de listes\n",
    "\n",
    "Soit\n",
    "\n",
    "* L1 la liste des entiers de 1 à 2000\n",
    "* L2 la liste des entiers de 1000 à 3000\n",
    "\n",
    "Construire la liste contenant les éléments communs à L1 et L2\n",
    "\n",
    "Utiliser plusieurs techniques:\n",
    "\n",
    "### Force brute\n",
    "* Parcourir les éléments de L1\n",
    "    * Pour chaque élément de L1, parcourir ceux de L2\n",
    "        * Si élément courant de L1 est égal à l'élément courant de L2\n",
    "            * L'ajouter à la liste résultat\n",
    "\n",
    "### Trouver des variantes\n",
    "\n",
    "* Penser au mot clef **break** \n",
    "* Penser à l'opérateur **in**\n",
    "* Utiliser le fait que les listes soient triées\n",
    "* ..."
   ]
  },
  {
   "cell_type": "code",
   "execution_count": null,
   "metadata": {},
   "outputs": [],
   "source": [
    "# %%timeit\n",
    "L1 = list(range(1,2001))\n",
    "L2 = list(range(1000,3001))\n",
    "resultat=[]\n",
    "\n"
   ]
  },
  {
   "cell_type": "markdown",
   "metadata": {},
   "source": [
    "## Nombres premiers\n",
    "Soit un entier N, construire la liste contenant les N premiers nombres premiers\n",
    "\n",
    "Si N vaut 4, retourner [2,3,5,7]\n",
    "\n",
    "Un nombre premier est divisible par exactement 2 nombres : 1 et lui-même"
   ]
  },
  {
   "cell_type": "code",
   "execution_count": null,
   "metadata": {},
   "outputs": [],
   "source": [
    "%%timeit\n",
    "# Un nombre qui n'est pas divisible par d'autres nombres premiers est premier\n",
    "\n",
    "# Construire la liste des nombres premiers qui est vide\n",
    "premiers = []\n",
    "\n",
    "N = 40\n",
    "nb_premiers_trouves = 0\n",
    "nombre_courant = 2\n",
    "# Tant que pas trouvé N nombres premiers:\n",
    "\n",
    "    # parcourir les nombres premiers déjà trouvés\n",
    "\n",
    "\n",
    "        # chercher si diviseur trouvé\n",
    "\n",
    "            # positionner variable à True pour indiquer diviseur trouvé\n",
    "\n",
    "    \n",
    "    # Si pas de diviseur trouvé\n",
    "\n",
    "        # l'ajouter à la liste des nombres premiers\n",
    "\n",
    "        # incrémenter le nombre de premiers trouvés\n",
    "\n",
    "    # incrémenter nombre courant\n",
    "\n",
    "    \n",
    "    \n",
    "# print(premiers)\n"
   ]
  },
  {
   "cell_type": "markdown",
   "metadata": {},
   "source": [
    "La boucle for accepte une clause **else**\n",
    "\n",
    "```python\n",
    "for <variable> in <liste de valeurs>:\n",
    "    <instructions>\n",
    "else:\n",
    "    <exécuté si on sort du for sans passer par break>\n",
    "```\n",
    "  "
   ]
  },
  {
   "cell_type": "code",
   "execution_count": null,
   "metadata": {},
   "outputs": [],
   "source": [
    "l = [1,2,3,4,5]\n",
    "for v in l:\n",
    "    if 33 == v:\n",
    "        print(\"Trouvé 33\")\n",
    "        break\n",
    "else:\n",
    "    print(\"Pas trouvé\")"
   ]
  },
  {
   "cell_type": "code",
   "execution_count": null,
   "metadata": {},
   "outputs": [],
   "source": [
    "<simplifier le code précédent avec else dans le for>\n"
   ]
  },
  {
   "cell_type": "markdown",
   "metadata": {},
   "source": [
    "# Les nombres"
   ]
  },
  {
   "cell_type": "code",
   "execution_count": null,
   "metadata": {},
   "outputs": [],
   "source": [
    "e = 10\n",
    "r = 10.\n",
    "c = 0 + 10j\n",
    "print(e, type(e))\n",
    "print(r, type(r))\n",
    "print(c, type(c))\n"
   ]
  },
  {
   "cell_type": "code",
   "execution_count": null,
   "metadata": {},
   "outputs": [],
   "source": [
    "\"\"\"\n",
    "Opérateurs:\n",
    "+, -, /, * : addition, soustraction, division et multiplication\n",
    "// : division entière\n",
    "% : reste de la division\n",
    "** : exposant\n",
    "q,r =divmod(a, b) : quotient et le reste de a divisé par b\n",
    "& : ET bit à bit\n",
    "| : OU bit à bit\n",
    "^ : OU exclusif bit à bit \n",
    ">> : décalage à droite de n bits\n",
    "<< : décalage à gauche de n bits\n",
    "\"\"\"\n",
    "# print( 10 / 3 )\n",
    "# print( 10 // 3 )\n",
    "# print( 10**3 )\n",
    "# q, r = divmod(10,7) # q = 1, r = 3\n",
    "# print(q, r)"
   ]
  },
  {
   "cell_type": "code",
   "execution_count": null,
   "metadata": {},
   "outputs": [],
   "source": [
    "a = 10 # 10 en décimal s'écrit  1010 en binaire\n",
    "b = 12 # 12 en décimal s'écrit  1100 en binaire \n",
    "# print( a & b)  # & retourne 1 si les bits de même rang sont à 1 tous les 2\n",
    "               # \n",
    "# print( a | b)  # | retourne 1 si 1 des 2 bits de même rang vaut 1\n",
    "               # \n",
    "# print( a ^ b)  # ^ retourne 1, si un et un seul des bits de même rang vaut 1\n",
    "               # "
   ]
  },
  {
   "cell_type": "code",
   "execution_count": null,
   "metadata": {},
   "outputs": [],
   "source": [
    "# print(a >> 2 )  # 0010 on perd 2 bits à droite et on ajoute 2 zéros devant\n",
    "# print( a << 2)  # 101000, on ajoute 2 zéros à droite"
   ]
  },
  {
   "cell_type": "markdown",
   "metadata": {},
   "source": [
    "**ATTENTION** aux régressions lors du passage de python 2 à 3\n",
    "\n",
    "En Python 2 la division est typée : si on divise 2 entiers le résultat est un entier. En python 3 la division retourne toujours le vrai résultat"
   ]
  },
  {
   "cell_type": "code",
   "execution_count": null,
   "metadata": {},
   "outputs": [],
   "source": [
    "!/usr/bin/python2 -c \"print(10 / 3); print(10. / 3); print(10//3)\""
   ]
  },
  {
   "cell_type": "code",
   "execution_count": null,
   "metadata": {},
   "outputs": [],
   "source": [
    "print(10 / 3)"
   ]
  },
  {
   "cell_type": "markdown",
   "metadata": {},
   "source": [
    "Pour contourner ce problème:"
   ]
  },
  {
   "cell_type": "code",
   "execution_count": null,
   "metadata": {},
   "outputs": [],
   "source": [
    "a = 10\n",
    "b = 3\n",
    "print( a // b)  # force résultat entier en Python 2 et 3\n",
    "print( float(a) / b)  # force conversion en réel d'une des opérande"
   ]
  },
  {
   "cell_type": "markdown",
   "metadata": {},
   "source": [
    "Pas de limite de taille sur les entiers en Python"
   ]
  },
  {
   "cell_type": "code",
   "execution_count": null,
   "metadata": {},
   "outputs": [],
   "source": [
    "# En C on est limité à 2** 64 - 1 comme plus grand entier positif\n",
    "print(2**64-1)\n",
    "# Pas de limite en Python\n",
    "print(2**100)\n",
    "print(2**1000)"
   ]
  },
  {
   "cell_type": "markdown",
   "metadata": {},
   "source": [
    "**ATTENTION** aux erreurs d'arrondis avec les réels\n",
    "\n",
    "Comme tous les langages utilisant la norme dite virgule flottante IEEE754, pour représenter les réels, Python est sujet à des limitations de précision\n",
    "\n",
    "Un réel 64 bits est stocké de cette manière:\n",
    "\n",
    "* 52 bits pour les chiffres significatifs\n",
    "* 11 bits d'exposant\n",
    "* 1 bit de signe"
   ]
  },
  {
   "cell_type": "code",
   "execution_count": null,
   "metadata": {},
   "outputs": [],
   "source": [
    "print(\"Plus grand nombre de chiffres significatifs d'un réel:\", 2**52)\n",
    "print(\"Nombre de chiffres décimaux max d'un réel:\", len(str(2**52)))"
   ]
  },
  {
   "cell_type": "markdown",
   "metadata": {},
   "source": [
    "Au delà de 16 chiffres décimaux, la norme et Python, ne savent pas stocker les chiffres supplémentaires"
   ]
  },
  {
   "cell_type": "code",
   "execution_count": null,
   "metadata": {},
   "outputs": [],
   "source": [
    "PI = 3.141592653598765432109876543210\n",
    "print(PI)\n",
    "print(\"%16d\" % (PI*10**16) )"
   ]
  },
  {
   "cell_type": "code",
   "execution_count": null,
   "metadata": {},
   "outputs": [],
   "source": [
    "0.1 + 0.1 + 0.1 - 0.3 == 0"
   ]
  },
  {
   "cell_type": "code",
   "execution_count": null,
   "metadata": {},
   "outputs": [],
   "source": [
    "0.1 + 0.1 + 0.1 - 0.3 == 0.0"
   ]
  },
  {
   "cell_type": "code",
   "execution_count": null,
   "metadata": {},
   "outputs": [],
   "source": [
    "0.1 + 0.1 + 0.1 - 0.3"
   ]
  },
  {
   "cell_type": "markdown",
   "metadata": {},
   "source": [
    "Pour tester l'égalité entre 2 réels, il faut les soustraire et vérifier que la différence est inférieure à la précision souhaitée"
   ]
  },
  {
   "cell_type": "code",
   "execution_count": null,
   "metadata": {},
   "outputs": [],
   "source": [
    "a = 0.1 + 0.1 + 0.1\n",
    "b = 0.3\n",
    "a == b, abs(a-b) < 10**-3"
   ]
  },
  {
   "cell_type": "markdown",
   "metadata": {},
   "source": [
    "Pour éviter ces erreurs:\n",
    "    \n",
    "* Changer d'unités (mètres en nanomètres, euros en centimes) et travailler avec les entiers\n",
    "* Utiliser le type décimal de Python"
   ]
  },
  {
   "cell_type": "code",
   "execution_count": null,
   "metadata": {},
   "outputs": [],
   "source": [
    "import decimal  # un type de nombre dont on spécifie le nombre de chiffres\n",
    "                # significatifs souhaités\n",
    "    \n",
    "context = decimal.getcontext()\n",
    "context.prec = 100 # 100 chiffres significatifs\n",
    "\n",
    "a = decimal.Decimal(10 / 3)\n",
    "# print(a)\n",
    "# <votre solution>\n",
    "# print(a)"
   ]
  },
  {
   "cell_type": "markdown",
   "metadata": {},
   "source": [
    "## Pièges avec les tuples\n",
    "\n",
    "Un tuple n'est pas modifiable, mais..."
   ]
  },
  {
   "cell_type": "code",
   "execution_count": null,
   "metadata": {},
   "outputs": [],
   "source": [
    "t = (1,2,3, [4,5,6], \"riri\")\n",
    "print(t, type(t))"
   ]
  },
  {
   "cell_type": "code",
   "execution_count": null,
   "metadata": {},
   "outputs": [],
   "source": [
    "# t[0] = 10 # erreur\n",
    "t[3].append(7)\n",
    "t  # la liste est modifiée !"
   ]
  },
  {
   "cell_type": "code",
   "execution_count": null,
   "metadata": {},
   "outputs": [],
   "source": [
    "a = 10\n",
    "print( type(a) )\n",
    "a = (10) # ici il y a ambiguïeté car les parenthèses \n",
    "         # servent pour les maths et aussi pour délimiter un tuple\n",
    "         # ici python privilégie l'expression mathématique\n",
    "# print( type(a) )\n"
   ]
  },
  {
   "cell_type": "code",
   "execution_count": null,
   "metadata": {},
   "outputs": [],
   "source": [
    "a = 10\n",
    "print(\"a=%s\" % a)\n",
    "# a = [1,2,3]\n",
    "# print(\"a=%s\" % a)\n",
    "# a = (1,2,3)\n",
    "# # print(\"a=%s\" % a)  # TypeError: not all arguments converted during string formatting\n",
    "# # L'opérateur % avec une chaîne prend un tuple de paramètres à formater\n",
    "# print(\"a=%s %s %s\" % a)\n",
    "# print(\"a=%s\" % (a,))"
   ]
  },
  {
   "cell_type": "markdown",
   "metadata": {},
   "source": [
    "# Notations avancées"
   ]
  },
  {
   "cell_type": "markdown",
   "metadata": {},
   "source": [
    "Opérateur ternaire de C/Java:\n",
    "\n",
    "```C\n",
    "int a = 2 > 5 ? 'vrai' : 'faux'\n",
    "```"
   ]
  },
  {
   "cell_type": "code",
   "execution_count": null,
   "metadata": {},
   "outputs": [],
   "source": [
    "if 2 > 5:\n",
    "    a = \"vrai\"\n",
    "else:\n",
    "    a = 'faux'\n",
    "    \n",
    "a = 'vrai' if 2 > 5 else \"faux\""
   ]
  },
  {
   "cell_type": "markdown",
   "metadata": {},
   "source": [
    "Affectations de portions de listes"
   ]
  },
  {
   "cell_type": "code",
   "execution_count": null,
   "metadata": {},
   "outputs": [],
   "source": [
    "a = [0,1,2,3]\n",
    "a[1:3]=[\"A\", 'B', 'C', 'D']\n",
    "print(a)"
   ]
  },
  {
   "cell_type": "code",
   "execution_count": null,
   "metadata": {},
   "outputs": [],
   "source": [
    "# a[::2] = (1,2,3,4,5) # ValueError: attempt to assign sequence of size 5 to extended slice of size 3\n",
    "a[::2] = (100,200,300)\n",
    "print(a)"
   ]
  },
  {
   "cell_type": "code",
   "execution_count": null,
   "metadata": {},
   "outputs": [],
   "source": [
    "del a[1::2]\n",
    "print(a)"
   ]
  },
  {
   "cell_type": "code",
   "execution_count": null,
   "metadata": {},
   "outputs": [],
   "source": [
    "## Permutation d'éléments\n",
    "a = 10\n",
    "b = 20\n",
    "print(\"a=%s, b=%s\" % (a, b))\n",
    "<a vous de jouer>\n",
    "print(\"a=%s, b=%s\" % (a, b)) # a=20 et b=10"
   ]
  },
  {
   "cell_type": "markdown",
   "metadata": {},
   "source": [
    "Unpacking de liste/décomposition des éléments d'une liste dans des variables"
   ]
  },
  {
   "cell_type": "code",
   "execution_count": null,
   "metadata": {},
   "outputs": [],
   "source": [
    "a, b, c = [1, 2, 3]\n",
    "print(\"a=%s, b=%s, c=%s\" % (a, b, c))\n"
   ]
  },
  {
   "cell_type": "code",
   "execution_count": null,
   "metadata": {},
   "outputs": [],
   "source": [
    "a = 1\n",
    "b = 2\n",
    "a, b = 1, 2 # Unpacking d'un tuple\n",
    "a = 1, 2 # un tuple peut s'écrire sans parenthèses si pas d'ambiguité\n",
    "print(type(a))"
   ]
  },
  {
   "cell_type": "code",
   "execution_count": null,
   "metadata": {},
   "outputs": [],
   "source": [
    "list(enumerate(\"ABC\"))"
   ]
  },
  {
   "cell_type": "code",
   "execution_count": null,
   "metadata": {},
   "outputs": [],
   "source": [
    "for ind, car in enumerate(\"ABC\"):\n",
    "    print(ind, car)"
   ]
  },
  {
   "cell_type": "code",
   "execution_count": null,
   "metadata": {},
   "outputs": [],
   "source": [
    "for a, b in [(1,2), (3,4)]:\n",
    "    print(\"a=%s, b=%s\" % (a, b))"
   ]
  },
  {
   "cell_type": "markdown",
   "metadata": {},
   "source": [
    "### Notation par compréhension\n",
    "\n",
    "Quand on écrit\n",
    "```python\n",
    "var = []\n",
    "\n",
    "for <variable> in <liste de valeurs>:\n",
    "    var.append(<expression>)\n",
    "```\n",
    "Cela peut se condenser en:\n",
    "\n",
    "```python\n",
    "var = [ <expression> for <variable> in <liste de valeurs> ]\n",
    "```\n"
   ]
  },
  {
   "cell_type": "code",
   "execution_count": null,
   "metadata": {},
   "outputs": [],
   "source": [
    "carres = []\n",
    "for v in range(10): # nombres de 0 à 9\n",
    "    carres.append(v**2)\n",
    "print(carres)"
   ]
  },
  {
   "cell_type": "code",
   "execution_count": null,
   "metadata": {},
   "outputs": [],
   "source": [
    "carres = [ <a vous de jouer> ]\n",
    "print(carres)"
   ]
  },
  {
   "cell_type": "markdown",
   "metadata": {},
   "source": [
    "\n",
    "Quand on écrit\n",
    "```python\n",
    "var = []\n",
    "\n",
    "for <variable> in <liste de valeurs>:\n",
    "    if <condition>:\n",
    "        var.append(<expression>)\n",
    "```\n",
    "Cela peut se condenser en:\n",
    "\n",
    "```python\n",
    "var = [ <expression> for <variable> in <liste de valeurs> if <condition>]\n",
    "```\n"
   ]
  },
  {
   "cell_type": "code",
   "execution_count": null,
   "metadata": {},
   "outputs": [],
   "source": [
    "cubes = []\n",
    "for v in range(10):\n",
    "    if v % 2 == 0:\n",
    "        cubes.append(v**3)\n",
    "        \n",
    "print(cubes)"
   ]
  },
  {
   "cell_type": "code",
   "execution_count": null,
   "metadata": {},
   "outputs": [],
   "source": [
    "cubes = [ <a vous de jouer> ]\n",
    "print(cubes)"
   ]
  },
  {
   "cell_type": "code",
   "execution_count": null,
   "metadata": {},
   "outputs": [],
   "source": [
    "bat_nav = [ (x,y) for x in \"ABC\" for y in (1,2,3) ] \n",
    "print(bat_nav)"
   ]
  },
  {
   "cell_type": "code",
   "execution_count": null,
   "metadata": {},
   "outputs": [],
   "source": [
    "# convertir la notation par compréhension ci-dessus \n",
    "# en 2 boucles imbriquées\n",
    "\n",
    "<a vous de jouer>\n",
    "\n",
    "print(bat_nav)"
   ]
  },
  {
   "cell_type": "code",
   "execution_count": null,
   "metadata": {},
   "outputs": [],
   "source": []
  },
  {
   "cell_type": "code",
   "execution_count": null,
   "metadata": {},
   "outputs": [],
   "source": [
    "## Conversion entiers/octets\n",
    "a = 26  # 1A\n",
    "print(a.to_bytes(length=4, byteorder='big', signed=False))\n",
    "print(a.to_bytes(length=4, byteorder='little', signed=False) )\n",
    "octets = b'\\x00\\x00\\x00\\x1a'\n",
    "int.from_bytes(octets, byteorder=\"big\", signed=False)"
   ]
  },
  {
   "cell_type": "markdown",
   "metadata": {},
   "source": [
    "Pour les réels vers binaire et inversement, regarder la fonction **unpack** de la librairie **struct**\n",
    "\n",
    "https://stackoverflow.com/questions/8751653/how-to-convert-a-binary-string-into-a-float-value"
   ]
  },
  {
   "cell_type": "markdown",
   "metadata": {},
   "source": [
    "# Les dictionnaires\n",
    "\n",
    "Ce sont des tableaux de type clef, valeur\n",
    "\n",
    "* La clef peut être de tout type non modifiable (None, booléen, nombre, chaîne, tuple, octets)\n",
    "* La valeur peut être de tout type"
   ]
  },
  {
   "cell_type": "code",
   "execution_count": null,
   "metadata": {},
   "outputs": [],
   "source": [
    "d1 = {}  # un dico vide\n",
    "d2 = { None : \"rien\"\n",
    "     , 10  : (1,2,3,4,5,6,7,8,9,10)\n",
    "     , 3.14 : \"PI\"\n",
    "     , (\"A\",5) : 'Porte avion'\n",
    "     , True : {\"NOM\": \"MARTIN\"}\n",
    "     , \"PRENOM\" : \"Dominique\"\n",
    "     }\n",
    "\n",
    "print(d2)"
   ]
  },
  {
   "cell_type": "code",
   "execution_count": null,
   "metadata": {},
   "outputs": [],
   "source": [
    "## Afficher une valeur du dico\n",
    "print(d2[True])\n",
    "# print(d2[10])\n",
    "# print(d2['PRENOM'])\n",
    "# print(d2[3.14])"
   ]
  },
  {
   "cell_type": "markdown",
   "metadata": {},
   "source": [
    "Ils servent en général à créer des structures de données sans passer par des classes"
   ]
  },
  {
   "cell_type": "code",
   "execution_count": null,
   "metadata": {},
   "outputs": [],
   "source": [
    "personne = { \"NOM\" : \"MARTIN\",\n",
    "             \"PRENOM\" : \"Toto\",\n",
    "             \"AGE\" : 10,\n",
    "             \"VILLE\" : \"PARIS\"\n",
    "           }\n",
    "print(personne)"
   ]
  },
  {
   "cell_type": "code",
   "execution_count": null,
   "metadata": {},
   "outputs": [],
   "source": [
    "# Formatage\n",
    "\n",
    "print(\"Je m'appelle %s %s et j'ai %04d ans\" % (personne['PRENOM']\n",
    "                                            , personne['NOM']\n",
    "                                            , personne['AGE']))\n",
    "\n",
    "print(\"Je m'appelle %(PRENOM)s %(NOM)s et j'ai %(AGE)04d ans\" % personne)\n"
   ]
  },
  {
   "cell_type": "markdown",
   "metadata": {},
   "source": [
    "Parcours des couples clefs, valeurs\n",
    "\n",
    "**ATTENTION** avant Python 3.6 l'ordre de parcours des clefs/valeurs n'est pas garanti\n",
    "D'une fois sur l'autre les clefs peuvent apparaître dans des ordres différents\n",
    "\n",
    "A partir de Python 3.6 l'ordre de parcours est celui de la saisie"
   ]
  },
  {
   "cell_type": "code",
   "execution_count": null,
   "metadata": {},
   "outputs": [],
   "source": [
    "for key in personne:\n",
    "    print(\"Clef: %s, Valeur: %s\" % (key, personne[key]))"
   ]
  },
  {
   "cell_type": "code",
   "execution_count": null,
   "metadata": {},
   "outputs": [],
   "source": [
    "for key, value in personne.items():\n",
    "    print(key, \"**\", value)"
   ]
  },
  {
   "cell_type": "code",
   "execution_count": null,
   "metadata": {},
   "outputs": [],
   "source": [
    "for value in personne.values():\n",
    "    print(value)"
   ]
  },
  {
   "cell_type": "code",
   "execution_count": null,
   "metadata": {},
   "outputs": [],
   "source": [
    "# Pour imposer un ordre sur les clef alphabétique croissant\n",
    "keys = list(personne.keys())\n",
    "keys.sort()\n",
    "\n",
    "for key in keys:\n",
    "    print(key)"
   ]
  },
  {
   "cell_type": "code",
   "execution_count": null,
   "metadata": {},
   "outputs": [],
   "source": [
    "# Ajout, modification, suppression de couple clef, valeur\n",
    "personne['AGE'] = 11  # si la clef existe, elle est modifiée\n",
    "personne['COPINE'] = \"Marguerite\"  # si la clef n'existe pas, elle est ajoutée\n",
    "print(personne)\n",
    "# Suppression\n",
    "del personne['COPINE']\n",
    "print(personne)"
   ]
  },
  {
   "cell_type": "code",
   "execution_count": null,
   "metadata": {},
   "outputs": [],
   "source": [
    "# Accès à une clef inexistante\n",
    "# print(personne['COPINE'])  # KeyError: 'COPINE'\n",
    "\n",
    "# Teste si une clef existe\n",
    "key = \"COPINE\"\n",
    "\n",
    "# personne['COPINE'] = \n",
    "\n",
    "if key in personne:  # En Python 2 il y a aussi personne.has_key(\"COPINE\")\n",
    "    print(\"Alors Toto, comment va ta copine ?\")\n",
    "else:\n",
    "    print(\"Alors Toto, comment vas-tu ?\")\n",
    "    \n",
    "value = personne.get('COPINE')  # Retourne None si la clef n'existe pas\n",
    "print(value)\n",
    "value = personne.get('COPINE', \"pas de copine\")\n",
    "print(value)\n"
   ]
  },
  {
   "cell_type": "markdown",
   "metadata": {},
   "source": [
    "# Exercice\n",
    "Reprendre l'exercice d'intersection sur les listes\n",
    "\n",
    "L1 = entiers de 1 à 2000  \n",
    "L2 = entiers de 1000 à 3000\n",
    "\n",
    "* Créer un dictionnaire D1 vide\n",
    "* Ajouter dans D1 les éléments de L1 comme clef, peu importe la valeur ajoutée\n",
    "* Parcourir les éléments de L2\n",
    "    * Si élément courant de L2 est une clef de D1, l'ajouter au résultat\n",
    "    \n",
    "Mesurer les performances et les comparer avec la version brute\n",
    "\n",
    "Multiplier le nombre d'éléments par 10 dans les listes, mesurer à nouveau les perfs\n"
   ]
  },
  {
   "cell_type": "code",
   "execution_count": null,
   "metadata": {},
   "outputs": [],
   "source": [
    "L1 = list(range(1,20001))\n",
    "L2 = list(range(10000,30001))\n",
    "resultat = []"
   ]
  },
  {
   "cell_type": "code",
   "execution_count": null,
   "metadata": {},
   "outputs": [],
   "source": [
    "# %%timeit -r 1 -n 1\n",
    "for elem1 in L1:  # Si M élements dans L1\n",
    "    for elem2 in L2:  # Si N éléments dans L2\n",
    "        if elem1 == elem2: # Test exécuté N*M fois , si N=M, N**2 opérations\n",
    "            resultat.append(elem1)"
   ]
  },
  {
   "cell_type": "code",
   "execution_count": null,
   "metadata": {},
   "outputs": [],
   "source": [
    "# %%timeit\n",
    "L1 = list(range(1,20001))\n",
    "L2 = list(range(10000,30001))\n",
    "resultat = []\n",
    "\n"
   ]
  },
  {
   "cell_type": "code",
   "execution_count": null,
   "metadata": {},
   "outputs": [],
   "source": [
    "Objection...."
   ]
  },
  {
   "cell_type": "code",
   "execution_count": null,
   "metadata": {},
   "outputs": [],
   "source": [
    "\n",
    "# %%timeit -n 1 -r 1\n",
    "L1 = list(range(1,20001))\n",
    "L2 = list(range(10000,30001))\n",
    "resultat = []\n",
    "for elem1 in L1:\n",
    "    if elem1 in L2:  #\n",
    "        resultat.append(elem1)"
   ]
  },
  {
   "cell_type": "code",
   "execution_count": null,
   "metadata": {},
   "outputs": [],
   "source": [
    "2.67/0.044"
   ]
  },
  {
   "cell_type": "code",
   "execution_count": null,
   "metadata": {},
   "outputs": [],
   "source": [
    "9/.002"
   ]
  },
  {
   "cell_type": "markdown",
   "metadata": {},
   "source": [
    "Les dictionnaires utilisent une représentation/un algo de parcours appelé OpenAdressing  \n",
    "https://www.laurentluce.com/posts/python-dictionary-implementation/"
   ]
  },
  {
   "cell_type": "markdown",
   "metadata": {},
   "source": [
    "Si vous avez fini, essayer la même chose en utilisant le type **set**"
   ]
  },
  {
   "cell_type": "code",
   "execution_count": null,
   "metadata": {},
   "outputs": [],
   "source": [
    "# Un set est un ensemble au sens mathématique qui ne peut contenir que des types\n",
    "# non modifiables, et une seule occurrence d'une même valeur\n",
    "# C'est un dictionnaire sans valeur\n",
    "# Il possède des fonctions ensembliste, d'intersection\n",
    "\n",
    "\n",
    "L1 = {1,2,1,2,1,2}\n",
    "print(L1, type(L1))"
   ]
  },
  {
   "cell_type": "code",
   "execution_count": null,
   "metadata": {},
   "outputs": [],
   "source": [
    "%%timeit\n",
    "L1 = set(range(1, 2001))\n",
    "L2 = set(range(1000,3001))\n",
    "\n"
   ]
  }
 ],
 "metadata": {
  "kernelspec": {
   "display_name": "Python 3",
   "language": "python",
   "name": "python3"
  },
  "language_info": {
   "codemirror_mode": {
    "name": "ipython",
    "version": 3
   },
   "file_extension": ".py",
   "mimetype": "text/x-python",
   "name": "python",
   "nbconvert_exporter": "python",
   "pygments_lexer": "ipython3",
   "version": "3.7.2"
  }
 },
 "nbformat": 4,
 "nbformat_minor": 2
}
