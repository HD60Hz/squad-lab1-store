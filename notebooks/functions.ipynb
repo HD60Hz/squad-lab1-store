{
 "cells": [
  {
   "cell_type": "markdown",
   "metadata": {},
   "source": [
    "# Les fonctions\n",
    "\n",
    "\n",
    "## Qu'est-ce qu'une fonction ?\n",
    "C'est une suite d'instructions que l'on peut rappeler en leur donnant un nom et en rendant paramétrables certaines opérandes de ces instructions\n",
    "\n",
    "Une fonction peut:\n",
    "* Accepter des paramètres (dont le type n'est pas imposé)\n",
    "* Recevoir ses paramètres dans n'importe quel ordre (dans ce cas on indique leur nom : param1=valeur1, param3=valeur3, param2=valeur2)\n",
    "* Avoir des paramètres ayant des valeurs par défaut\n",
    "* Accepter un nombre non limité de paramètres dits positionnels (1,2,\"toto\"), on nomme en général **\\*args** le paramètre qui sera un tuple \n",
    "* Accepter un nombre non limité de paramètres dits mots/clefs ou keyword argument (param1=valeur1, param2=valeur2), on nomme en général **\\*\\*kwargs** ce paramètre qui sera un dictionnaire\n",
    "* Retourner une valeur\n"
   ]
  },
  {
   "cell_type": "code",
   "execution_count": null,
   "metadata": {},
   "outputs": [],
   "source": [
    "print(\"Somme de 10 + 20:\", 10+20)\n",
    "print(\"Différence de 10 - 20\", 10-20)\n",
    "\n",
    "print(\"Somme de 11 + 22:\", 11+22)\n",
    "print(\"Différence de 11 - 22:\", 11-22)\n",
    "\n",
    "print(\"Somme de 12 + 23:\", 12+23)\n",
    "print(\"Différence de 12 - 23:\", 12-23)"
   ]
  },
  {
   "cell_type": "code",
   "execution_count": null,
   "metadata": {},
   "outputs": [],
   "source": [
    "a, b = 10, 20\n",
    "print(\"Somme de %s + %s: %s\" %(a,b,a + b) )\n",
    "print(\"Différence de %s - %s: %s\" % (a,b,a - b))\n",
    "\n",
    "a, b = 11, 22\n",
    "print(\"Somme de %s + %s: %s\" %(a,b,a + b) )\n",
    "print(\"Différence de %s - %s: %s\" % (a,b,a - b))\n",
    "\n",
    "a, b = 13, 23\n",
    "print(\"Somme de %s + %s: %s\" %(a,b,a + b) )\n",
    "print(\"Différence de %s - %s: %s\" % (a,b,a - b))"
   ]
  },
  {
   "cell_type": "code",
   "execution_count": null,
   "metadata": {},
   "outputs": [],
   "source": [
    "def somme_et_diff(a, b):\n",
    "    print(\"Somme de %s + %s= %s\" %(a,b,a + b) )\n",
    "    print(\"Différence de %s - %s= %s\" % (a,b,a - b))\n",
    "    \n",
    "somme_et_diff(10,20)\n",
    "somme_et_diff(11,22)\n",
    "somme_et_diff(13,23)"
   ]
  },
  {
   "cell_type": "code",
   "execution_count": null,
   "metadata": {},
   "outputs": [],
   "source": [
    "def somme(a, b):\n",
    "    s = a + b\n",
    "    print(\"Somme de %s + %s= %s\" %(a,b,s) )\n",
    "somme(10,20)\n",
    "print(\"somme de 10 et 20 fois 10 =\", s)"
   ]
  },
  {
   "cell_type": "code",
   "execution_count": null,
   "metadata": {},
   "outputs": [],
   "source": [
    "def somme(a, b):\n",
    "    s = a + b\n",
    "    print(\"Somme de %s + %s= %s\" %(a,b,s) )\n",
    "    return s\n",
    "result = somme(10,20)\n",
    "print(\"somme de 10 et 20 fois 10 =\", result * 10)"
   ]
  },
  {
   "cell_type": "markdown",
   "metadata": {},
   "source": [
    "## Créer une fonction\n",
    "On utilise le mot clef **def** suivi du nom de la fonction, de parenthèses pour les éventuels paramètres et de la marque de début de bloc **:**  \n",
    "Tout ce qui est indenté après cette ligne de définition fait partie du code de la fonction\n",
    "Pour appeler la fonction on écrit son nom suivi de ()"
   ]
  },
  {
   "cell_type": "code",
   "execution_count": null,
   "metadata": {},
   "outputs": [],
   "source": [
    "def f1():  # Définition de la fonction, pas d'exécution\n",
    "    print('DEBUT F1')\n",
    "    print('FIN F1')\n",
    "    \n",
    "# print(\"Bonjour\")\n",
    "# f1() \n",
    "# print(\"Au revoir\")"
   ]
  },
  {
   "cell_type": "markdown",
   "metadata": {},
   "source": [
    "## Une fonction peut accepter des paramètres"
   ]
  },
  {
   "cell_type": "code",
   "execution_count": null,
   "metadata": {
    "collapsed": true
   },
   "outputs": [],
   "source": [
    "def f2(a, b):\n",
    "    print(\"F2: a=%s, b=%s\" % (a,b))"
   ]
  },
  {
   "cell_type": "code",
   "execution_count": null,
   "metadata": {},
   "outputs": [],
   "source": [
    "f2(10, 20)"
   ]
  },
  {
   "cell_type": "code",
   "execution_count": null,
   "metadata": {},
   "outputs": [],
   "source": [
    "f2(\"toto\", [1,2,3])"
   ]
  },
  {
   "cell_type": "code",
   "execution_count": null,
   "metadata": {},
   "outputs": [],
   "source": [
    "# Les paramètres sont obligatoires, sauf s'ils ont des valeurs par défaut\n",
    "f2()"
   ]
  },
  {
   "cell_type": "markdown",
   "metadata": {},
   "source": [
    "## On peut passer les paramètres sans respecter l'ordre s'ils sont nommés"
   ]
  },
  {
   "cell_type": "code",
   "execution_count": null,
   "metadata": {
    "collapsed": true
   },
   "outputs": [],
   "source": [
    "def f2(a, b):\n",
    "    print(\"F2: a=%s, b=%s\" % (a,b))"
   ]
  },
  {
   "cell_type": "code",
   "execution_count": null,
   "metadata": {},
   "outputs": [],
   "source": [
    "f2(10, 20)"
   ]
  },
  {
   "cell_type": "code",
   "execution_count": null,
   "metadata": {},
   "outputs": [],
   "source": [
    "f2(a=10, b=20) # paramètres nommés ou keyword argument"
   ]
  },
  {
   "cell_type": "code",
   "execution_count": null,
   "metadata": {},
   "outputs": [],
   "source": [
    "f2(b=5, a=3)"
   ]
  },
  {
   "cell_type": "code",
   "execution_count": null,
   "metadata": {},
   "outputs": [],
   "source": [
    "f2(5, b=6)"
   ]
  },
  {
   "cell_type": "code",
   "execution_count": null,
   "metadata": {},
   "outputs": [],
   "source": [
    "f2(5, a=6)  "
   ]
  },
  {
   "cell_type": "code",
   "execution_count": null,
   "metadata": {},
   "outputs": [],
   "source": [
    "f2(a=5, 6) "
   ]
  },
  {
   "cell_type": "markdown",
   "metadata": {},
   "source": [
    "## Une fonction peut retourner une valeur\n",
    "* Pour cela on utilise le mot clef return suivi de la valeur\n",
    "* Tout ce qui se trouve après le mot clef return n'est pas exécuté\n",
    "* Une fonction ne peut retourner qu'une seule valeur, mais on peut simuler qu'elle en retourne plusieurs"
   ]
  },
  {
   "cell_type": "code",
   "execution_count": null,
   "metadata": {
    "collapsed": true
   },
   "outputs": [],
   "source": [
    "def f3(a, b):\n",
    "    print(\"F3: a=%s, b=%s\" % (a,b))\n",
    "    pdx = a * b\n",
    "    print(\"F3 : a*b =\", pdx)\n",
    "    return pdx # fin de la fonction\n",
    "    print(\"Code mort, jamais exécuté\")"
   ]
  },
  {
   "cell_type": "code",
   "execution_count": null,
   "metadata": {},
   "outputs": [],
   "source": [
    "# f3(4, 5) \n",
    "# print(pdx)\n",
    "# r = f3(6,7)\n",
    "# print(r)\n",
    "# print(f3(8,9))"
   ]
  },
  {
   "cell_type": "markdown",
   "metadata": {},
   "source": [
    "### Question ?\n",
    "Peut-on récupérer la valeur d'une fonction qui ne retourne rien ?"
   ]
  },
  {
   "cell_type": "code",
   "execution_count": 1,
   "metadata": {},
   "outputs": [
    {
     "name": "stdout",
     "output_type": "stream",
     "text": [
      "F2: a=10, b=20\n",
      "None\n"
     ]
    }
   ],
   "source": [
    "def f2(a, b):\n",
    "    print(\"F2: a=%s, b=%s\" % (a,b))\n",
    "\n",
    "r = f2(10,20)  \n",
    "print(r)"
   ]
  },
  {
   "cell_type": "markdown",
   "metadata": {},
   "source": [
    "## Exercice\n",
    "Simuler le retour de plusieurs valeurs:  \n",
    "Ecrire une fonction somme_produit qui retourne la somme et le produit \n",
    "des paramètres a et b  \n",
    "Récupérer ces valeurs dans 2 variables, **s** et **p**"
   ]
  },
  {
   "cell_type": "code",
   "execution_count": null,
   "metadata": {},
   "outputs": [],
   "source": [
    "def somme_produit(a, b):\n",
    "    \"\"\"\n",
    "    La fonction somme_produit retourne la somme et le produit\n",
    "    de 2 nombres\n",
    "    \"\"\"\n",
    "\n",
    "\n",
    "print(\"Somme=\", s, \" Produit=\", p)"
   ]
  },
  {
   "cell_type": "code",
   "execution_count": null,
   "metadata": {},
   "outputs": [],
   "source": [
    "a,b = [1,2]\n",
    "print(\"a=%s, b=%s\" % (a,b))"
   ]
  },
  {
   "cell_type": "code",
   "execution_count": null,
   "metadata": {},
   "outputs": [],
   "source": [
    "def somme_produit(a, b):\n",
    "    \"\"\"\n",
    "    La fonction somme_produit retourne la somme et le produit\n",
    "    de 2 nombres\n",
    "    \"\"\"  \n",
    "\n",
    "\n",
    "print(\"Somme=\", s, \" Produit=\", p)"
   ]
  },
  {
   "cell_type": "markdown",
   "metadata": {},
   "source": [
    "## Fonctions récursives\n",
    "Une fonction récursive est une fonction qui s'appelle elle-même  \n",
    "C'est souvent très élégant au niveau de la syntaxe et plus concis à écrire  \n",
    "Un peu moins rapide  \n",
    "Dans certains cas, quasiment inévitable...\n",
    "\n",
    "Il y a un point important dans l'écriture de ces fonctions, il faut une condition pour qu'elles arrêtes de s'appeler à un moment donné, sinon elles boucles à l'infini\n",
    "\n"
   ]
  },
  {
   "cell_type": "code",
   "execution_count": null,
   "metadata": {},
   "outputs": [],
   "source": [
    "# produit des entiers de 1 à n\n",
    "n = 10\n",
    "l = range(1, n+1, 1)\n",
    "r = 1\n",
    "for element in l:\n",
    "    r = r * element\n",
    "print(r)"
   ]
  },
  {
   "cell_type": "code",
   "execution_count": null,
   "metadata": {},
   "outputs": [],
   "source": [
    "%%timeit -r 1 -n 1\n",
    "# Version itérative\n",
    "def factorielle(n):\n",
    "    \"\"\"Retourne le produits de nombres de 1 à n : 1*2*3*4*...*(n-1)*n\"\"\"\n",
    "\n",
    "    \n",
    "# si condition pas vraie, assert génère une erreur\n",
    "assert factorielle(4) == 1*2*3*4, \"Erreur, mauvaise valeur de factorielle(4)\" \n",
    "assert factorielle(10) == 1*2*3*4*5*6*7*8*9*10\n",
    "assert factorielle(6) == 6 * factorielle(5)\n",
    "print(\"Factorielle 100 =\")\n",
    "print(factorielle(100))"
   ]
  },
  {
   "cell_type": "code",
   "execution_count": null,
   "metadata": {
    "collapsed": true
   },
   "outputs": [],
   "source": [
    "# Opérateur ternaire\n",
    "# En C++/java\n",
    "# a = 10 > 20 ? \"vrai\" : \"faux\"\n",
    "a = \"vrai\" if 10 > 20 else \"faux\""
   ]
  },
  {
   "cell_type": "code",
   "execution_count": null,
   "metadata": {},
   "outputs": [],
   "source": [
    "# Ecrire une version récursive de factorielle(n)\n",
    "def factorielle(n):\n",
    "    \"\"\"Retourne le produits de nombres de 1 à n : 1*2*3*4*...*(n-1)*n\n",
    "    Sachant que factorielle(0) = 1\n",
    "                factorielle(1) = 1\n",
    "                factorielle(n) =  1*2*3*4*...*(n-1)*n\n",
    "                               = factorielle(n-1) * n\n",
    "    \"\"\"\n",
    "\n",
    "\n",
    "\n",
    "assert factorielle(4) == 1*2*3*4\n",
    "assert factorielle(10) == 2*3*4*5*6*7*8*9*10\n",
    "assert factorielle(6) == 6 * factorielle(5)\n",
    "\n",
    "f100 = factorielle(100)\n",
    "print(\"Combien de bits sont utilisés pour afficher factorielle(100) ?\")\n",
    "# print(dir(f100)) => bit_length\n",
    "print(f100.bit_length())"
   ]
  },
  {
   "cell_type": "code",
   "execution_count": null,
   "metadata": {
    "collapsed": true
   },
   "outputs": [],
   "source": [
    "# Ecrire la fonction fibonacci(n) qui retourne les n premiers termes \n",
    "# de la célèbre suite (version itérative et récursive)"
   ]
  },
  {
   "cell_type": "code",
   "execution_count": null,
   "metadata": {},
   "outputs": [],
   "source": [
    "f100 = factorielle(100)\n",
    "print(f100)\n",
    "# Calcul du nombre de bits nécessaires pour stocker factorielle(100)\n",
    "print(bin(f100), len(bin(f100)) - 2, f100.bit_length())\n",
    "# Modifier le nombre d'appels imbriqués possible\n",
    "import sys\n",
    "print(\"Nb d'appels récursifs possibles:\", sys.getrecursionlimit(),)\n",
    "sys.setrecursionlimit(5000)\n",
    "fac2000 = factorielle(2000) \n",
    "print(\"\\nFactorielle 2000\")\n",
    "print(fac2000)"
   ]
  },
  {
   "cell_type": "markdown",
   "metadata": {},
   "source": [
    "## Les paramètres d'une fonction peuvent avoir des valeurs par défaut"
   ]
  },
  {
   "cell_type": "code",
   "execution_count": null,
   "metadata": {},
   "outputs": [],
   "source": [
    "def f4(a=5, b=\"toto\"):\n",
    "    print(\"F4: a=%s, b=%s\" % (a,b))"
   ]
  },
  {
   "cell_type": "code",
   "execution_count": null,
   "metadata": {},
   "outputs": [],
   "source": [
    "f4()\n",
    "f4(10)\n",
    "f4(a=6)\n",
    "f4(b=7)"
   ]
  },
  {
   "cell_type": "markdown",
   "metadata": {},
   "source": [
    "## Une fonction peut accepter un nombre non limité de paramètres\n",
    "* Dans ce cas, les paramètres positionnels sont récupérés dans un paramètre préfixé d'une étoile `*`\n",
    "  Son type sera un *tuple*, par convention on le nomme **args**, mais vous le nommez comme vous voulez\n",
    "* Dans ce cas, les paramètres nommés (keyword argument) sont récupérés dans un paramètre préfixé de 2 étoiles `**`\n",
    "  Son type sera un *dictionnaire*, par convention on le nomme **kwargs**, mais vous le nommez comme vous voulez\n",
    "  Ses clefs seront les noms des paramètres et leurs valeurs, les valeurs associées\n",
    "\n",
    "\n",
    "**Les fameuses conventions sont ICI:**\n",
    "* PEP8 : https://www.python.org/dev/peps/pep-0008/\n",
    "* PEP257 : https://www.python.org/dev/peps/pep-0257/"
   ]
  },
  {
   "cell_type": "code",
   "execution_count": null,
   "metadata": {
    "collapsed": true
   },
   "outputs": [],
   "source": [
    "def f5(a=5, b=\"toto\", *args, **kwargs):\n",
    "    print(\"F5: a=%s, b=%s, args=%s, kwargs=%s\" % (a, b, args, kwargs))"
   ]
  },
  {
   "cell_type": "code",
   "execution_count": null,
   "metadata": {},
   "outputs": [],
   "source": [
    "f5()\n",
    "f5(10,20)\n",
    "f5(10,20,30,40)\n",
    "f5(10,20,toto=1, titi=\"boum\")\n",
    "f5(10,20,30,40,toto=1, titi=\"boum\")"
   ]
  },
  {
   "cell_type": "markdown",
   "metadata": {},
   "source": [
    "### Exercice\n",
    "Utiliser les paramètres non limités pour créer\n",
    "une fonction qui retourne la somme des paramètres qu'on lui passe"
   ]
  },
  {
   "cell_type": "code",
   "execution_count": null,
   "metadata": {},
   "outputs": [],
   "source": [
    "def somme_param(*args): # cette fonction accepte uniquement des paramètres positionnels\n",
    "    \"\"\"\n",
    "    Exemples:\n",
    "    somme_param(1,2,3,4) => 1+2+3+4 = 10\n",
    "    somme_param(10,5,6) => 21\n",
    "    \"\"\"\n",
    "\n",
    "\n",
    "assert somme_param(1,2,3,4) == 10\n",
    "assert somme_param(10,5,6) == 21\n",
    "print(somme_param(1,2,3,4))\n",
    "# Pour ceux qui auraient déjà fini, faire fonctionner la fonction\n",
    "# avec des chaines\n",
    "print(somme_param(\"aa\", \"b\", \"cc\", \"d\")) # aabccd"
   ]
  },
  {
   "cell_type": "code",
   "execution_count": null,
   "metadata": {},
   "outputs": [],
   "source": [
    "somme_param(a=1,b=2)"
   ]
  },
  {
   "cell_type": "markdown",
   "metadata": {},
   "source": [
    "## Unpacking d'arguments\n",
    "Tout comme on peut affecter les éléments d'une liste à plusieurs variables, on peut passer les éléments d'une liste ou d'un dictionnaire comme plusieurs paramètres différents"
   ]
  },
  {
   "cell_type": "code",
   "execution_count": null,
   "metadata": {
    "collapsed": true
   },
   "outputs": [],
   "source": [
    "def f6(a,b,c):\n",
    "    print(\"F6: a=%s, b=%s, c=%s\" %(a,b,c))"
   ]
  },
  {
   "cell_type": "code",
   "execution_count": null,
   "metadata": {},
   "outputs": [],
   "source": [
    "l1 = (1,2,3)\n",
    "f6(l1) # ?\n"
   ]
  },
  {
   "cell_type": "code",
   "execution_count": null,
   "metadata": {},
   "outputs": [],
   "source": [
    "l1 = [1,2,3]"
   ]
  },
  {
   "cell_type": "code",
   "execution_count": null,
   "metadata": {},
   "outputs": [],
   "source": [
    "somme_param(*[\"a\",\"b\",\"c\",\"d\"])"
   ]
  },
  {
   "cell_type": "code",
   "execution_count": null,
   "metadata": {
    "collapsed": true
   },
   "outputs": [],
   "source": [
    "def f6(a,b,c):\n",
    "    print(\"F6: a=%s, b=%s, c=%s\" %(a,b,c))"
   ]
  },
  {
   "cell_type": "code",
   "execution_count": null,
   "metadata": {},
   "outputs": [],
   "source": [
    "d1 = {\"a\": 1, \"b\": 2, \"c\": 3}\n",
    "f6(d1)"
   ]
  },
  {
   "cell_type": "code",
   "execution_count": null,
   "metadata": {},
   "outputs": [],
   "source": [
    "d1 = {\"a\": 1, \"b\": 2, \"c\": 3}"
   ]
  },
  {
   "cell_type": "markdown",
   "metadata": {},
   "source": [
    "## Effet de bord surprenant..."
   ]
  },
  {
   "cell_type": "code",
   "execution_count": 4,
   "metadata": {},
   "outputs": [
    {
     "name": "stdout",
     "output_type": "stream",
     "text": [
      "id(a)=140301283492800, id(b)=140301148775280\n",
      "F7: a=1, b=[5]\n",
      "id(a)=140301283492928, id(b)=140301148775760\n",
      "F7: a=5, b=[1, 2, 3, 4, 5]\n",
      "id(a)=140301283492800, id(b)=140301148775280\n",
      "F7: a=1, b=[5, 5]\n",
      "id(a)=140301283492800, id(b)=140301148775280\n",
      "F7: a=1, b=[5, 5, 5]\n"
     ]
    },
    {
     "data": {
      "text/plain": [
       "[5, 5, 5]"
      ]
     },
     "execution_count": 4,
     "metadata": {},
     "output_type": "execute_result"
    }
   ],
   "source": [
    "def f7(a=0, b=[]):\n",
    "    # Les valeurs par défaut sont initialisées qu'une seule fois\n",
    "    # à la toute première exécution\n",
    "    # Aux appels suivant, si on ne passe pas *b* on reprend son ancienne\n",
    "    # valeurs\n",
    "    # Ce sont des sortes de paramètres statiques du C\n",
    "    print(\"id(a)=%s, id(b)=%s\" % tuple([id(x) for x in (a,b)]))\n",
    "    a = a + 1\n",
    "    b.append(5)\n",
    "    print(\"F7: a=%s, b=%s\" % (a,b))\n",
    "    return b\n",
    "\n",
    "# Qu'affichent ces 4 lignes ?\n",
    "f7() \n",
    "f7(4,[1,2,3,4]) \n",
    "f7()\n",
    "f7()"
   ]
  },
  {
   "cell_type": "code",
   "execution_count": null,
   "metadata": {},
   "outputs": [],
   "source": [
    "# Réécrire f7 pour qu'elle conserve le même comportement, sans l'effet de bord\n",
    "def f7(a=0, b=None): # Ici b est un paramètre formel\n",
    "    pass\n",
    "\n",
    "r = f7() # a=1, b=[5]\n",
    "f7(4,[1,2,3,4]) # F7: a=5, b=[1, 2, 3, 4, 5]\n",
    "r = f7() # a=1, b=[5]\n",
    "assert len(r) == 1 and r[0] == 5"
   ]
  },
  {
   "cell_type": "markdown",
   "metadata": {},
   "source": [
    "## Comment sont passés les paramètres à une fonction \n",
    "Essayez de deviner"
   ]
  },
  {
   "cell_type": "code",
   "execution_count": 7,
   "metadata": {},
   "outputs": [],
   "source": [
    "def f8(a, b): # a est un nombre, b une liste\n",
    "    print(\"DEBUT F8: a=%s, b=%s\" % (a,b))\n",
    "    print(\"adresse a=%s, adresse b=%s\" % (id(a), id(b)))\n",
    "    print(\"MODIFICATION dans F8\")\n",
    "    a = a + 1\n",
    "    b.append(4)\n",
    "    print(\"adresse a=%s, adresse b=%s\" % (id(a), id(b)))\n",
    "    print(\"FIN F8: a=%s, b=%s\" % (a,b))"
   ]
  },
  {
   "cell_type": "code",
   "execution_count": 8,
   "metadata": {},
   "outputs": [
    {
     "name": "stdout",
     "output_type": "stream",
     "text": [
      "Avant F8: a1=10, b1=[1, 2, 3]\n",
      "adresse a1=140301283493120, adresse b1=140301148767248\n",
      "DEBUT F8: a=10, b=[1, 2, 3]\n",
      "adresse a=140301283493120, adresse b=140301148767248\n",
      "MODIFICATION dans F8\n",
      "adresse a=140301283493152, adresse b=140301148767248\n",
      "FIN F8: a=11, b=[1, 2, 3, 4]\n",
      "Après F8: a1=10, b1=[1, 2, 3, 4]\n",
      "adresse a1=140301283493120, adresse b1=140301148767248\n"
     ]
    }
   ],
   "source": [
    "a1 = 10\n",
    "b1 = [1,2,3]\n",
    "print(\"Avant F8: a1=%s, b1=%s\" % (a1, b1))\n",
    "print(\"adresse a1=%s, adresse b1=%s\" % (id(a1), id(b1)))\n",
    "f8(a1, b1) # seront-ils modifiés en sortie ?\n",
    "# En entrant, il se passe a=a1, b=b1\n",
    "\n",
    "print(\"Après F8: a1=%s, b1=%s\" % (a1, b1))\n",
    "print(\"adresse a1=%s, adresse b1=%s\" % (id(a1), id(b1)))"
   ]
  },
  {
   "cell_type": "markdown",
   "metadata": {},
   "source": [
    "# Visibilité des variables\n",
    "En Python, comme dans tout langage les variables ont une visibilité qui est locale au bloc les déclarant et à leurs sous blocs\n",
    "\n",
    "* Déclarer une variable c'est lui affecter une valeur\n",
    "\n",
    "* Les blocs « if, elif, else », « for », « while » et « try/except » sont considérés comme étant dans le bloc « courant », ils ne sont pas considérés comme des sous blocs\n",
    "* On parle de variable globale quand une variable est déclarée au niveau du script Python\n",
    "* On parle de visibilité locale lorsque qu'une variable est déclarée au niveau d'un module, d'une classe, d'une fonction. Dans ce cas sa visibilité est locale à l'objet qui la déclare\n"
   ]
  },
  {
   "cell_type": "markdown",
   "metadata": {},
   "source": [
    "### Avez-vous été attentif/attentive ?"
   ]
  },
  {
   "cell_type": "code",
   "execution_count": 2,
   "metadata": {},
   "outputs": [
    {
     "name": "stdout",
     "output_type": "stream",
     "text": [
      "Avant fonction\n",
      "VAR1=10, VAR2=20\n",
      "F1: VAR1=90, VAR2=100\n",
      "Après fonction\n",
      "VAR1=10, VAR2=20\n"
     ]
    }
   ],
   "source": [
    "# qu'affiche ce programme ?\n",
    "\n",
    "VAR1 = 10\n",
    "VAR2 = 20\n",
    "\n",
    "print(\"Avant fonction\")\n",
    "print(\"VAR1=%s, VAR2=%s\" % (VAR1, VAR2))\n",
    "\n",
    "def f1():\n",
    "    VAR1 = 90\n",
    "    VAR2 = 100\n",
    "    print(\"F1: VAR1=%s, VAR2=%s\" % (VAR1, VAR2))\n",
    "\n",
    "f1()\n",
    "print(\"Après fonction\")\n",
    "print(\"VAR1=%s, VAR2=%s\" % (VAR1, VAR2))"
   ]
  },
  {
   "cell_type": "code",
   "execution_count": null,
   "metadata": {},
   "outputs": [],
   "source": [
    "# Et celui-ci ?\n",
    "\n",
    "a = 10 \n",
    "if 5 < 6:\n",
    "    a = 25 # on ne crée pas une nouvelle variable locale a\n",
    "           # contrairement au bloc de code des fonctions\n",
    "    b = 7\n",
    "else:\n",
    "    a = 36\n",
    "    b = 8\n",
    "print(a, b)"
   ]
  }
 ],
 "metadata": {
  "anaconda-cloud": {},
  "kernelspec": {
   "display_name": "Python 3",
   "language": "python",
   "name": "python3"
  },
  "language_info": {
   "codemirror_mode": {
    "name": "ipython",
    "version": 3
   },
   "file_extension": ".py",
   "mimetype": "text/x-python",
   "name": "python",
   "nbconvert_exporter": "python",
   "pygments_lexer": "ipython3",
   "version": "3.7.4"
  }
 },
 "nbformat": 4,
 "nbformat_minor": 1
}
